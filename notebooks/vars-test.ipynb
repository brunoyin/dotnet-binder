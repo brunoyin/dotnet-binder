{
 "cells": [
  {
   "cell_type": "code",
   "execution_count": 1,
   "metadata": {},
   "outputs": [
    {
     "data": {
      "text/html": [
       "\r\n",
       "<div>\r\n",
       "    <div id='dotnet-interactive-this-cell-35.Microsoft.DotNet.Interactive.Http.HttpPort' style='display: none'>\r\n",
       "        The below script needs to be able to find the current output cell; this is an easy method to get it.\r\n",
       "    </div>\r\n",
       "    <script type='text/javascript'>\r\n",
       "async function probeAddresses(probingAddresses) {\r\n",
       "    function timeout(ms, promise) {\r\n",
       "        return new Promise(function (resolve, reject) {\r\n",
       "            setTimeout(function () {\r\n",
       "                reject(new Error('timeout'))\r\n",
       "            }, ms)\r\n",
       "            promise.then(resolve, reject)\r\n",
       "        })\r\n",
       "    }\r\n",
       "\r\n",
       "    if (Array.isArray(probingAddresses)) {\r\n",
       "        for (let i = 0; i < probingAddresses.length; i++) {\r\n",
       "\r\n",
       "            let rootUrl = probingAddresses[i];\r\n",
       "\r\n",
       "            if (!rootUrl.endsWith('/')) {\r\n",
       "                rootUrl = `${rootUrl}/`;\r\n",
       "            }\r\n",
       "\r\n",
       "            try {\r\n",
       "                let response = await timeout(1000, fetch(`${rootUrl}discovery`, {\r\n",
       "                    method: 'POST',\r\n",
       "                    cache: 'no-cache',\r\n",
       "                    mode: 'cors',\r\n",
       "                    timeout: 1000,\r\n",
       "                    headers: {\r\n",
       "                        'Content-Type': 'text/plain'\r\n",
       "                    },\r\n",
       "                    body: probingAddresses[i]\r\n",
       "                }));\r\n",
       "\r\n",
       "                if (response.status == 200) {\r\n",
       "                    return rootUrl;\r\n",
       "                }\r\n",
       "            }\r\n",
       "            catch (e) { }\r\n",
       "        }\r\n",
       "    }\r\n",
       "}\r\n",
       "\r\n",
       "function loadDotnetInteractiveApi() {\r\n",
       "    probeAddresses([\"http://172.17.0.5:1100/\", \"http://127.0.0.1:1100/\"])\r\n",
       "        .then((root) => {\r\n",
       "        // use probing to find host url and api resources\r\n",
       "        // load interactive helpers and language services\r\n",
       "        let dotnetInteractiveRequire = require.config({\r\n",
       "        context: '35.Microsoft.DotNet.Interactive.Http.HttpPort',\r\n",
       "                paths:\r\n",
       "            {\r\n",
       "                'dotnet-interactive': `${root}resources`\r\n",
       "                }\r\n",
       "        }) || require;\r\n",
       "\r\n",
       "            window.dotnetInteractiveRequire = dotnetInteractiveRequire;\r\n",
       "\r\n",
       "            window.configureRequireFromExtension = function(extensionName, extensionCacheBuster) {\r\n",
       "                let paths = {};\r\n",
       "                paths[extensionName] = `${root}extensions/${extensionName}/resources/`;\r\n",
       "                \r\n",
       "                let internalRequire = require.config({\r\n",
       "                    context: extensionCacheBuster,\r\n",
       "                    paths: paths,\r\n",
       "                    urlArgs: `cacheBuster=${extensionCacheBuster}`\r\n",
       "                    }) || require;\r\n",
       "\r\n",
       "                return internalRequire\r\n",
       "            };\r\n",
       "        \r\n",
       "            dotnetInteractiveRequire([\r\n",
       "                    'dotnet-interactive/dotnet-interactive'\r\n",
       "                ],\r\n",
       "                function (dotnet) {\r\n",
       "                    dotnet.init(window);\r\n",
       "                },\r\n",
       "                function (error) {\r\n",
       "                    console.log(error);\r\n",
       "                }\r\n",
       "            );\r\n",
       "        })\r\n",
       "        .catch(error => {console.log(error);});\r\n",
       "    }\r\n",
       "\r\n",
       "// ensure `require` is available globally\r\n",
       "if ((typeof(require) !==  typeof(Function)) || (typeof(require.config) !== typeof(Function))) {\r\n",
       "    let require_script = document.createElement('script');\r\n",
       "    require_script.setAttribute('src', 'https://cdnjs.cloudflare.com/ajax/libs/require.js/2.3.6/require.min.js');\r\n",
       "    require_script.setAttribute('type', 'text/javascript');\r\n",
       "    \r\n",
       "    \r\n",
       "    require_script.onload = function() {\r\n",
       "        loadDotnetInteractiveApi();\r\n",
       "    };\r\n",
       "\r\n",
       "    document.getElementsByTagName('head')[0].appendChild(require_script);\r\n",
       "}\r\n",
       "else {\r\n",
       "    loadDotnetInteractiveApi();\r\n",
       "}\r\n",
       "\r\n",
       "    </script>\r\n",
       "</div>"
      ]
     },
     "metadata": {},
     "output_type": "display_data"
    },
    {
     "name": "stdout",
     "output_type": "stream",
     "text": [
      "Registered Sources:\n",
      "  1.  nuget.org [Enabled]\n",
      "      https://api.nuget.org/v3/index.json\n",
      "  2.  dotnet5 [Enabled]\n",
      "      https://pkgs.dev.azure.com/dnceng/public/_packaging/dotnet5/nuget/v3/index.json\n",
      "  3.  MachineLearning [Enabled]\n",
      "      https://pkgs.dev.azure.com/dnceng/public/_packaging/MachineLearning/nuget/v3/index.json\n"
     ]
    }
   ],
   "source": [
    "dotnet nuget list source"
   ]
  },
  {
   "cell_type": "code",
   "execution_count": 2,
   "metadata": {},
   "outputs": [
    {
     "data": {
      "application/json": {
       "what": "some JSON",
       "why": [
        "to share it with another subkernel",
        "to see it in a treeview"
       ]
      }
     },
     "metadata": {},
     "output_type": "display_data"
    }
   ],
   "source": [
    "#!value --name someJson --mime-type application/json\n",
    "    \n",
    "{ \n",
    "    \"what\": \"some JSON\", \n",
    "    \"why\": \n",
    "        [\n",
    "            \"to share it with another subkernel\",\n",
    "            \"to see it in a treeview\"\n",
    "        ]\n",
    "}"
   ]
  },
  {
   "cell_type": "code",
   "execution_count": 3,
   "metadata": {},
   "outputs": [
    {
     "data": {
      "text/plain": [
       "{ \n",
       "    \"what\": \"some JSON\", \n",
       "    \"why\": \n",
       "        [\n",
       "            \"to share it with another subkernel\",\n",
       "            \"to see it in a treeview\"\n",
       "        ]\n",
       "}"
      ]
     },
     "execution_count": 3,
     "metadata": {},
     "output_type": "execute_result"
    }
   ],
   "source": [
    "#!csharp\n",
    "#!share someJson --from value\n",
    "someJson"
   ]
  },
  {
   "cell_type": "code",
   "execution_count": 6,
   "metadata": {},
   "outputs": [],
   "source": [
    "#!csharp\n",
    "using System;\n",
    "using System.Collections;\n",
    "\n",
    "public class Sample\n",
    "{\n",
    "    public static void ShowEnv()\n",
    "    {\n",
    "        string str;\n",
    "        string nl = Environment.NewLine;\n",
    "        //\n",
    "        Console.WriteLine();\n",
    "        Console.WriteLine(\"-- Environment members --\");\n",
    "\n",
    "        //  Invoke this sample with an arbitrary set of command line arguments.\n",
    "        Console.WriteLine(\"CommandLine: {0}\", Environment.CommandLine);\n",
    "\n",
    "        string[] arguments = Environment.GetCommandLineArgs();\n",
    "        Console.WriteLine(\"GetCommandLineArgs: {0}\", String.Join(\", \", arguments));\n",
    "\n",
    "        //  <-- Keep this information secure! -->\n",
    "        Console.WriteLine(\"CurrentDirectory: {0}\", Environment.CurrentDirectory);\n",
    "\n",
    "        Console.WriteLine(\"ExitCode: {0}\", Environment.ExitCode);\n",
    "\n",
    "        Console.WriteLine(\"HasShutdownStarted: {0}\", Environment.HasShutdownStarted);\n",
    "\n",
    "        //  <-- Keep this information secure! -->\n",
    "        Console.WriteLine(\"MachineName: {0}\", Environment.MachineName);\n",
    "\n",
    "        Console.WriteLine(\"NewLine: {0}  first line{0}  second line{0}  third line\",\n",
    "                              Environment.NewLine);\n",
    "\n",
    "        Console.WriteLine(\"OSVersion: {0}\", Environment.OSVersion.ToString());\n",
    "\n",
    "        Console.WriteLine(\"StackTrace: '{0}'\", Environment.StackTrace);\n",
    "\n",
    "        //  <-- Keep this information secure! -->\n",
    "        Console.WriteLine(\"SystemDirectory: {0}\", Environment.SystemDirectory);\n",
    "\n",
    "        Console.WriteLine(\"TickCount: {0}\", Environment.TickCount);\n",
    "\n",
    "        //  <-- Keep this information secure! -->\n",
    "        Console.WriteLine(\"UserDomainName: {0}\", Environment.UserDomainName);\n",
    "\n",
    "        Console.WriteLine(\"UserInteractive: {0}\", Environment.UserInteractive);\n",
    "\n",
    "        //  <-- Keep this information secure! -->\n",
    "        Console.WriteLine(\"UserName: {0}\", Environment.UserName);\n",
    "\n",
    "        Console.WriteLine(\"Version: {0}\", Environment.Version.ToString());\n",
    "\n",
    "        Console.WriteLine(\"WorkingSet: {0}\", Environment.WorkingSet);\n",
    "\n",
    "        //  No example for Exit(exitCode) because doing so would terminate this example.\n",
    "\n",
    "        //  <-- Keep this information secure! -->\n",
    "        string query = \"My system drive is %SystemDrive% and my system root is %SystemRoot%\";\n",
    "        str = Environment.ExpandEnvironmentVariables(query);\n",
    "        Console.WriteLine(\"ExpandEnvironmentVariables: {0}  {1}\", nl, str);\n",
    "\n",
    "        Console.WriteLine(\"GetEnvironmentVariable: {0}  My temporary directory is {1}.\", nl,\n",
    "                               Environment.GetEnvironmentVariable(\"TEMP\"));\n",
    "\n",
    "        Console.WriteLine(\"GetEnvironmentVariables: \");\n",
    "        IDictionary environmentVariables = Environment.GetEnvironmentVariables();\n",
    "        foreach (DictionaryEntry de in environmentVariables)\n",
    "        {\n",
    "            Console.WriteLine(\"  {0} = {1}\", de.Key, de.Value);\n",
    "        }\n",
    "\n",
    "        Console.WriteLine(\"GetFolderPath: {0}\",\n",
    "                     Environment.GetFolderPath(Environment.SpecialFolder.System));\n",
    "\n",
    "        string[] drives = Environment.GetLogicalDrives();\n",
    "        Console.WriteLine(\"GetLogicalDrives: {0}\", String.Join(\", \", drives));\n",
    "    }\n",
    "}\n"
   ]
  },
  {
   "cell_type": "code",
   "execution_count": 7,
   "metadata": {},
   "outputs": [
    {
     "name": "stdout",
     "output_type": "stream",
     "text": [
      "\n",
      "-- Environment members --\n",
      "CommandLine: /usr/share/dotnet-interactive/.store/microsoft.dotnet-interactive/1.0.312201/microsoft.dotnet-interactive/1.0.312201/tools/net6.0/any/Microsoft.DotNet.Interactive.App.dll jupyter --default-kernel powershell /home/bruno/.local/share/jupyter/runtime/kernel-25b32fcd-bb58-4d86-97b1-319cb7d8b20a.json --http-port-range 1100-1200\n",
      "GetCommandLineArgs: /usr/share/dotnet-interactive/.store/microsoft.dotnet-interactive/1.0.312201/microsoft.dotnet-interactive/1.0.312201/tools/net6.0/any/Microsoft.DotNet.Interactive.App.dll, jupyter, --default-kernel, powershell, /home/bruno/.local/share/jupyter/runtime/kernel-25b32fcd-bb58-4d86-97b1-319cb7d8b20a.json, --http-port-range, 1100-1200\n",
      "CurrentDirectory: /home/bruno/notebooks\n",
      "ExitCode: 0\n",
      "HasShutdownStarted: False\n",
      "MachineName: 2b9925484186\n",
      "NewLine: \n",
      "  first line\n",
      "  second line\n",
      "  third line\n",
      "OSVersion: Unix 4.19.128.0\n",
      "StackTrace: '   at System.Environment.get_StackTrace()\n",
      "   at Submission#7.Sample.ShowEnv()\n",
      "   at Submission#8.<<Initialize>>d__0.MoveNext()\n",
      "   at System.Runtime.CompilerServices.AsyncMethodBuilderCore.Start[TStateMachine](TStateMachine& stateMachine)\n",
      "   at Submission#8.<Initialize>()\n",
      "   at Submission#8.<Factory>(Object[] submissionArray)\n",
      "   at Microsoft.CodeAnalysis.Scripting.ScriptExecutionState.RunSubmissionsAsync[TResult](ImmutableArray`1 precedingExecutors, Func`2 currentExecutor, StrongBox`1 exceptionHolderOpt, Func`2 catchExceptionOpt, CancellationToken cancellationToken)\n",
      "   at System.Runtime.CompilerServices.AsyncMethodBuilderCore.Start[TStateMachine](TStateMachine& stateMachine)\n",
      "   at Microsoft.CodeAnalysis.Scripting.ScriptExecutionState.RunSubmissionsAsync[TResult](ImmutableArray`1 precedingExecutors, Func`2 currentExecutor, StrongBox`1 exceptionHolderOpt, Func`2 catchExceptionOpt, CancellationToken cancellationToken)\n",
      "   at Microsoft.CodeAnalysis.Scripting.Script`1.RunSubmissionsAsync(ScriptExecutionState executionState, ImmutableArray`1 precedingExecutors, Func`2 currentExecutor, Func`2 catchExceptionOpt, CancellationToken cancellationToken)\n",
      "   at System.Runtime.CompilerServices.AsyncMethodBuilderCore.Start[TStateMachine](TStateMachine& stateMachine)\n",
      "   at Microsoft.CodeAnalysis.Scripting.Script`1.RunSubmissionsAsync(ScriptExecutionState executionState, ImmutableArray`1 precedingExecutors, Func`2 currentExecutor, Func`2 catchExceptionOpt, CancellationToken cancellationToken)\n",
      "   at Microsoft.CodeAnalysis.Scripting.Script`1.RunFromAsync(ScriptState previousState, Func`2 catchException, CancellationToken cancellationToken)\n",
      "   at Microsoft.CodeAnalysis.Scripting.ScriptState.ContinueWithAsync(String code, ScriptOptions options, Func`2 catchException, CancellationToken cancellationToken)\n",
      "   at Microsoft.DotNet.Interactive.CSharp.CSharpKernel.RunAsync(String code, CancellationToken cancellationToken, Func`2 catchException) in D:\\a\\_work\\1\\s\\src\\Microsoft.DotNet.Interactive.CSharp\\CSharpKernel.cs:line 354\n",
      "   at System.Runtime.CompilerServices.AsyncMethodBuilderCore.Start[TStateMachine](TStateMachine& stateMachine)\n",
      "   at Microsoft.DotNet.Interactive.CSharp.CSharpKernel.RunAsync(String code, CancellationToken cancellationToken, Func`2 catchException)\n",
      "   at Microsoft.DotNet.Interactive.CSharp.CSharpKernel.HandleAsync(SubmitCode submitCode, KernelInvocationContext context) in D:\\a\\_work\\1\\s\\src\\Microsoft.DotNet.Interactive.CSharp\\CSharpKernel.cs:line 256\n",
      "   at System.Runtime.CompilerServices.AsyncMethodBuilderCore.Start[TStateMachine](TStateMachine& stateMachine)\n",
      "   at Microsoft.DotNet.Interactive.CSharp.CSharpKernel.HandleAsync(SubmitCode submitCode, KernelInvocationContext context)\n",
      "   at Microsoft.DotNet.Interactive.Kernel.<>c__DisplayClass73_0`1.<SetHandler>b__0(KernelCommand _, KernelInvocationContext context) in D:\\a\\_work\\1\\s\\src\\Microsoft.DotNet.Interactive\\Kernel.cs:line 708\n",
      "   at Microsoft.DotNet.Interactive.Commands.KernelCommand.InvokeAsync(KernelInvocationContext context) in D:\\a\\_work\\1\\s\\src\\Microsoft.DotNet.Interactive\\Commands\\KernelCommand.cs:line 56\n",
      "   at Microsoft.DotNet.Interactive.Kernel.HandleAsync(KernelCommand command, KernelInvocationContext context) in D:\\a\\_work\\1\\s\\src\\Microsoft.DotNet.Interactive\\Kernel.cs:line 260\n",
      "   at System.Runtime.CompilerServices.AsyncMethodBuilderCore.Start[TStateMachine](TStateMachine& stateMachine)\n",
      "   at Microsoft.DotNet.Interactive.Kernel.HandleAsync(KernelCommand command, KernelInvocationContext context)\n",
      "   at Microsoft.DotNet.Interactive.KernelCommandPipeline.<BuildPipeline>b__6_0(KernelCommand command, KernelInvocationContext context, KernelPipelineContinuation _) in D:\\a\\_work\\1\\s\\src\\Microsoft.DotNet.Interactive\\KernelCommandPipeline.cs:line 57\n",
      "   at System.Runtime.CompilerServices.AsyncMethodBuilderCore.Start[TStateMachine](TStateMachine& stateMachine)\n",
      "   at Microsoft.DotNet.Interactive.KernelCommandPipeline.<BuildPipeline>b__6_0(KernelCommand command, KernelInvocationContext context, KernelPipelineContinuation _)\n",
      "   at Microsoft.DotNet.Interactive.KernelCommandPipeline.<>c__DisplayClass6_1.<<BuildPipeline>b__3>d.MoveNext() in D:\\a\\_work\\1\\s\\src\\Microsoft.DotNet.Interactive\\KernelCommandPipeline.cs:line 72\n",
      "   at System.Runtime.CompilerServices.AsyncMethodBuilderCore.Start[TStateMachine](TStateMachine& stateMachine)\n",
      "   at Microsoft.DotNet.Interactive.KernelCommandPipeline.<>c__DisplayClass6_1.<BuildPipeline>b__3(KernelCommand cmd2, KernelInvocationContext ctx2)\n",
      "   at Microsoft.DotNet.Interactive.CompositeKernel.LoadExtensions(KernelCommand command, KernelInvocationContext context, KernelPipelineContinuation next) in D:\\a\\_work\\1\\s\\src\\Microsoft.DotNet.Interactive\\CompositeKernel.cs:line 145\n",
      "   at System.Runtime.CompilerServices.AsyncMethodBuilderCore.Start[TStateMachine](TStateMachine& stateMachine)\n",
      "   at Microsoft.DotNet.Interactive.CompositeKernel.LoadExtensions(KernelCommand command, KernelInvocationContext context, KernelPipelineContinuation next)\n",
      "   at Microsoft.DotNet.Interactive.KernelCommandPipeline.<>c__DisplayClass6_0.<<BuildPipeline>g__Combine|2>d.MoveNext() in D:\\a\\_work\\1\\s\\src\\Microsoft.DotNet.Interactive\\KernelCommandPipeline.cs:line 70\n",
      "   at System.Runtime.CompilerServices.AsyncMethodBuilderCore.Start[TStateMachine](TStateMachine& stateMachine)\n",
      "   at Microsoft.DotNet.Interactive.KernelCommandPipeline.<>c__DisplayClass6_0.<BuildPipeline>g__Combine|2(KernelCommand cmd1, KernelInvocationContext ctx1, KernelPipelineContinuation next)\n",
      "   at Microsoft.DotNet.Interactive.KernelCommandPipeline.SendAsync(KernelCommand command, KernelInvocationContext context) in D:\\a\\_work\\1\\s\\src\\Microsoft.DotNet.Interactive\\KernelCommandPipeline.cs:line 42\n",
      "   at System.Runtime.CompilerServices.AsyncMethodBuilderCore.Start[TStateMachine](TStateMachine& stateMachine)\n",
      "   at Microsoft.DotNet.Interactive.KernelCommandPipeline.SendAsync(KernelCommand command, KernelInvocationContext context)\n",
      "   at Microsoft.DotNet.Interactive.CompositeKernel.HandleAsync(KernelCommand command, KernelInvocationContext context) in D:\\a\\_work\\1\\s\\src\\Microsoft.DotNet.Interactive\\CompositeKernel.cs:line 230\n",
      "   at System.Runtime.CompilerServices.AsyncMethodBuilderCore.Start[TStateMachine](TStateMachine& stateMachine)\n",
      "   at Microsoft.DotNet.Interactive.CompositeKernel.HandleAsync(KernelCommand command, KernelInvocationContext context)\n",
      "   at Microsoft.DotNet.Interactive.KernelCommandPipeline.<BuildPipeline>b__6_0(KernelCommand command, KernelInvocationContext context, KernelPipelineContinuation _) in D:\\a\\_work\\1\\s\\src\\Microsoft.DotNet.Interactive\\KernelCommandPipeline.cs:line 57\n",
      "   at System.Runtime.CompilerServices.AsyncMethodBuilderCore.Start[TStateMachine](TStateMachine& stateMachine)\n",
      "   at Microsoft.DotNet.Interactive.KernelCommandPipeline.<BuildPipeline>b__6_0(KernelCommand command, KernelInvocationContext context, KernelPipelineContinuation _)\n",
      "   at Microsoft.DotNet.Interactive.KernelCommandPipeline.SendAsync(KernelCommand command, KernelInvocationContext context) in D:\\a\\_work\\1\\s\\src\\Microsoft.DotNet.Interactive\\KernelCommandPipeline.cs:line 42\n",
      "   at System.Runtime.CompilerServices.AsyncMethodBuilderCore.Start[TStateMachine](TStateMachine& stateMachine)\n",
      "   at Microsoft.DotNet.Interactive.KernelCommandPipeline.SendAsync(KernelCommand command, KernelInvocationContext context)\n",
      "   at Microsoft.DotNet.Interactive.Kernel.InvokePipelineAndCommandHandler(KernelCommand command) in D:\\a\\_work\\1\\s\\src\\Microsoft.DotNet.Interactive\\Kernel.cs:line 454\n",
      "   at System.Runtime.CompilerServices.AsyncMethodBuilderCore.Start[TStateMachine](TStateMachine& stateMachine)\n",
      "   at Microsoft.DotNet.Interactive.Kernel.InvokePipelineAndCommandHandler(KernelCommand command)\n",
      "   at Microsoft.DotNet.Interactive.KernelScheduler`2.ScheduledOperation.ExecuteAsync() in D:\\a\\_work\\1\\s\\src\\Microsoft.DotNet.Interactive\\KernelScheduler.cs:line 260\n",
      "   at Microsoft.DotNet.Interactive.KernelScheduler`2.Run(ScheduledOperation operation) in D:\\a\\_work\\1\\s\\src\\Microsoft.DotNet.Interactive\\KernelScheduler.cs:line 123\n",
      "   at Microsoft.DotNet.Interactive.KernelScheduler`2.RunScheduledOperationAndDeferredOperations(ScheduledOperation operation) in D:\\a\\_work\\1\\s\\src\\Microsoft.DotNet.Interactive\\KernelScheduler.cs:line 168\n",
      "   at Microsoft.DotNet.Interactive.KernelScheduler`2.<>c__DisplayClass10_0.<ScheduledOperationRunLoop>b__0(Object _) in D:\\a\\_work\\1\\s\\src\\Microsoft.DotNet.Interactive\\KernelScheduler.cs:line 98\n",
      "   at System.Threading.ExecutionContext.RunInternal(ExecutionContext executionContext, ContextCallback callback, Object state)\n",
      "   at Microsoft.DotNet.Interactive.KernelScheduler`2.ScheduledOperationRunLoop(Object _) in D:\\a\\_work\\1\\s\\src\\Microsoft.DotNet.Interactive\\KernelScheduler.cs:line 96\n",
      "   at System.Threading.Tasks.Task.InnerInvoke()\n",
      "   at System.Threading.Tasks.Task.<>c.<.cctor>b__272_0(Object obj)\n",
      "   at System.Threading.ExecutionContext.RunFromThreadPoolDispatchLoop(Thread threadPoolThread, ExecutionContext executionContext, ContextCallback callback, Object state)\n",
      "   at System.Threading.Tasks.Task.ExecuteWithThreadLocal(Task& currentTaskSlot, Thread threadPoolThread)\n",
      "   at System.Threading.Tasks.Task.ExecuteEntryUnsafe(Thread threadPoolThread)\n",
      "   at System.Threading.ThreadPoolWorkQueue.Dispatch()\n",
      "   at System.Threading.PortableThreadPool.WorkerThread.WorkerThreadStart()\n",
      "   at System.Threading.Thread.StartCallback()'\n",
      "SystemDirectory: \n",
      "TickCount: 6912001\n",
      "UserDomainName: 2b9925484186\n",
      "UserInteractive: True\n",
      "UserName: bruno\n",
      "Version: 6.0.2\n",
      "WorkingSet: 622284800\n",
      "ExpandEnvironmentVariables: \n",
      "  My system drive is %SystemDrive% and my system root is %SystemRoot%\n",
      "GetEnvironmentVariable: \n",
      "  My temporary directory is .\n",
      "GetEnvironmentVariables: \n",
      "  DOTNET_USE_POLLING_FILE_WATCHER = true\n",
      "  Logging__Console__FormatterName = \n",
      "  PYDEVD_USE_FRAME_EVAL = NO\n",
      "  DOTNET_VERSION = 6.0.2\n",
      "  ASPNETCORE_URLS = \n",
      "  DOTNET_NOLOGO = true\n",
      "  PATH = /usr/local/sbin:/usr/local/bin:/usr/sbin:/usr/bin:/sbin:/bin\n",
      "  HOSTNAME = 2b9925484186\n",
      "  DOTNET_GENERATE_ASPNET_CERTIFICATE = false\n",
      "  NUGET_XMLDOC_MODE = skip\n",
      "  HOME = /home/bruno\n",
      "  DOTNET_INTERACTIVE_CLI_TELEMETRY_OPTOUT = false\n",
      "  ASPNET_VERSION = 6.0.2\n",
      "  DOTNET_SDK_VERSION = 6.0.200\n",
      "  JPY_PARENT_PID = 8\n",
      "  DOTNET_RUNNING_IN_CONTAINER = true\n",
      "  PWD = /home/bruno\n",
      "  PSModulePath = /usr/share/dotnet-interactive/.store/microsoft.dotnet-interactive/1.0.312201/microsoft.dotnet-interactive/1.0.312201/tools/net6.0/any/Modules:/home/bruno/.local/share/powershell/Modules:/usr/local/share/powershell/Modules:/usr/share/dotnet-interactive/.store/microsoft.dotnet-interactive/1.0.312201/microsoft.dotnet-interactive/1.0.312201/tools/net6.0/any/runtimes/unix/lib/net6.0/Modules\n",
      "  DEBIAN_FRONTEND = noninteractive\n",
      "  LC_CTYPE = C.UTF-8\n",
      "  POWERSHELL_DISTRIBUTION_CHANNEL = dotnet-interactive-powershell\n",
      "GetFolderPath: \n",
      "GetLogicalDrives: /, /proc, /dev, /dev/pts, /sys, /sys/fs/cgroup, /sys/fs/cgroup/cpuset, /sys/fs/cgroup/cpu, /sys/fs/cgroup/cpuacct, /sys/fs/cgroup/blkio, /sys/fs/cgroup/memory, /sys/fs/cgroup/devices, /sys/fs/cgroup/freezer, /sys/fs/cgroup/net_cls, /sys/fs/cgroup/perf_event, /sys/fs/cgroup/net_prio, /sys/fs/cgroup/hugetlb, /sys/fs/cgroup/pids, /sys/fs/cgroup/rdma, /sys/fs/cgroup/systemd, /dev/mqueue, /dev/shm, /etc/resolv.conf, /etc/hostname, /etc/hosts, /home/bruno/notebooks, /proc/bus, /proc/fs, /proc/irq, /proc/sys, /proc/acpi, /proc/kcore, /proc/keys, /proc/timer_list, /proc/sched_debug, /sys/firmware\n"
     ]
    }
   ],
   "source": [
    "#!csharp\n",
    "\n",
    "Sample.ShowEnv()"
   ]
  },
  {
   "cell_type": "code",
   "execution_count": 8,
   "metadata": {},
   "outputs": [
    {
     "data": {
      "text/html": [
       "<div class=\"dni-plaintext\">35</div>"
      ]
     },
     "execution_count": 8,
     "metadata": {},
     "output_type": "execute_result"
    }
   ],
   "source": [
    "#!csharp\n",
    "\n",
    "Environment.ProcessId "
   ]
  },
  {
   "cell_type": "code",
   "execution_count": 9,
   "metadata": {},
   "outputs": [
    {
     "data": {
      "text/html": [
       "<div class=\"dni-plaintext\">35</div>"
      ]
     },
     "execution_count": 9,
     "metadata": {},
     "output_type": "execute_result"
    }
   ],
   "source": [
    "#!fsharp\n",
    "\n",
    "Environment.ProcessId "
   ]
  },
  {
   "cell_type": "code",
   "execution_count": 5,
   "metadata": {},
   "outputs": [
    {
     "data": {
      "text/plain": "Wall time: 42.3121ms"
     },
     "metadata": {},
     "output_type": "display_data"
    }
   ],
   "source": [
    "#!time\r\n",
    "#!pwsh\r\n",
    "\r\n",
    "# [System.Environment]::ProcessId\r\n",
    "# $PID\r\n",
    "# $env:YIN_VERSION = 'bruno 1.0'\r\n",
    ". ./vars-test.ps1\r\n",
    "# [System.Text.Json.Nodes.JsonNode]"
   ]
  },
  {
   "cell_type": "code",
   "execution_count": 2,
   "metadata": {},
   "outputs": [
    {
     "data": {
      "text/plain": "bruno"
     },
     "execution_count": 2,
     "metadata": {},
     "output_type": "execute_result"
    }
   ],
   "source": [
    "#!csharp\n",
    "\n",
    "Environment.GetEnvironmentVariable(\"dbuser\")"
   ]
  },
  {
   "cell_type": "code",
   "execution_count": 18,
   "metadata": {},
   "outputs": [
    {
     "name": "stdout",
     "output_type": "stream",
     "text": [
      "{\n",
      "  \"what\": \"some JSON\",\n",
      "  \"why\": [\n",
      "    \"to share it with another subkernel\",\n",
      "    \"to see it in a treeview\"\n",
      "  ]\n",
      "}\n",
      "to share it with another subkernel\n"
     ]
    }
   ],
   "source": [
    "#!c#\n",
    "#!share someJson --from value\n",
    "\n",
    "using System.Text.Json;\n",
    "using System.Text.Json.Nodes;\n",
    "\n",
    "// Create a JsonNode DOM from a JSON string.\n",
    "JsonNode mynode = JsonNode.Parse(someJson)!;\n",
    "\n",
    "// Write JSON from a JsonNode\n",
    "var options = new JsonSerializerOptions { WriteIndented = true };\n",
    "Console.WriteLine(mynode!.ToJsonString(options));\n",
    "\n",
    "Console.WriteLine(mynode![\"why\"][0].GetValue<String>());\n"
   ]
  },
  {
   "cell_type": "markdown",
   "metadata": {},
   "source": [
    "## JavaScript interaction\n",
    "Using RequireJS we import d3.js. We setup the rendering code, some SVG filter inspiredy by Visual Cinnamon article on gooey effect.\n",
    "\n",
    "Using interactive.csharp.getVariable we fetch the variable a value."
   ]
  },
  {
   "cell_type": "code",
   "execution_count": 21,
   "metadata": {},
   "outputs": [
    {
     "data": {
      "text/html": [
       "<script type=\"text/javascript\">\n",
       "if (typeof window.createDotnetInteractiveClient === typeof Function) {\n",
       "    window.createDotnetInteractiveClient('http://127.0.0.1:1100/').then(async function (interactive) {\n",
       "        const console = interactive.getConsole('f7b57c4951bb4866b98cbfc852366543');\n",
       "        const notebookScope = getDotnetInteractiveScope('http://127.0.0.1:1100/');\n",
       "        try {\n",
       "\n",
       "await Object.getPrototypeOf(async function() {}).constructor(\n",
       "    \"interactive\",\n",
       "    \"console\",\n",
       "    \"notebookScope\",\n",
       "    \"if (typeof (notebookScope.interval) !== \\u0027undefined\\u0027) {\\n    clearInterval(notebookScope.interval);\\n}\\n\\nnotebookScope.plot = (sgvSelector, variableName) =\\u003e {\\n    let dtreeLoader = interactive.configureRequire({\\n        paths: {\\n            d3: \\\"https://d3js.org/d3.v6.min\\\"\\n        }\\n    });\\n    dtreeLoader([\\\"d3\\\"], function (d3) {\\n        let svg = d3.\\n            select(sgvSelector);\\n        svg.selectAll(\\\"defs\\\").remove();\\n        svg.selectAll(\\\"g\\\").remove();\\n\\n        let defs = svg.append(\\\"defs\\\");\\n\\n        let filter = defs.append(\\\"filter\\\").attr(\\\"id\\\", \\\"gooeyCodeFilter\\\");\\n\\n        filter.append(\\\"feGaussianBlur\\\")\\n            .attr(\\\"in\\\", \\\"SourceGraphic\\\")\\n            .attr(\\\"stdDeviation\\\", \\\"10\\\")\\n            .attr(\\\"color-interpolation-filters\\\", \\\"sRGB\\\")\\n            .attr(\\\"result\\\", \\\"blur\\\");\\n\\n        filter.append(\\\"feColorMatrix\\\")\\n            .attr(\\\"in\\\", \\\"blur\\\")\\n            .attr(\\\"mode\\\", \\\"matrix\\\")\\n            .attr(\\\"values\\\", \\\"1 0 0 0 0  0 1 0 0 0  0 0 1 0 0  0 0 0 19 -9\\\")\\n            .attr(\\\"result\\\", \\\"gooey\\\");\\n\\n        let container = d3\\n            .select(sgvSelector)\\n            .append(\\\"g\\\")\\n            .style(\\\"filter\\\", \\\"url(#gooeyCodeFilter)\\\");\\n\\n\\n        console.log(container);\\n\\n        let updateD3Rendering = () =\\u003e interactive.csharp.getVariable(variableName)\\n            .then(data =\\u003e {\\n                var i = 0;\\n                var p = container\\n                    .selectAll(\\\".points\\\")\\n                    .data(data, (d, i) =\\u003e i);\\n\\n                p.transition()\\n                    .duration(2000)\\n                    .style(\\\"fill\\\", d =\\u003e d3.interpolateTurbo(d / 80))\\n                    .attr(\\\"r\\\", d =\\u003e Math.max(0, d));\\n\\n                p.enter()\\n                    .append(\\\"circle\\\")\\n                    .attr(\\\"class\\\", \\\"points\\\")\\n                    .attr(\\\"cy\\\", 80)\\n                    .attr(\\\"cx\\\", (d,i) =\\u003e ((i) + 1) * 60)\\n                    .transition()\\n                    .duration(2000)\\n                    .style(\\\"fill\\\", d =\\u003e d3.interpolateTurbo(d / 80))\\n                    .ease(d3.easeElasticOut.period(1.00))\\n                    .attr(\\\"r\\\", d =\\u003e Math.max(0, d)),\\n\\n                    p.exit()\\n                        .transition()\\n                        .duration(1000)\\n                        .attr(\\\"r\\\", 0)\\n                        .remove();\\n            });\\n        notebookScope.interval = setInterval(() =\\u003e updateD3Rendering(), 3000);\\n    });\\n}\"\n",
       ")(\n",
       "    interactive,\n",
       "    console,\n",
       "    notebookScope\n",
       ");\n",
       "\n",
       "        } catch (err) {\n",
       "            interactive.failCommand(err, 'f7b57c4951bb4866b98cbfc852366543');\n",
       "        } finally {\n",
       "            await interactive.waitForAllEventsToPublish('f7b57c4951bb4866b98cbfc852366543');\n",
       "            await interactive.markExecutionComplete('f7b57c4951bb4866b98cbfc852366543');\n",
       "        }\n",
       "    });\n",
       "}\n",
       "</script>"
      ]
     },
     "metadata": {},
     "output_type": "display_data"
    }
   ],
   "source": [
    "#!js\n",
    "\n",
    "if (typeof (notebookScope.interval) !== 'undefined') {\n",
    "    clearInterval(notebookScope.interval);\n",
    "}\n",
    "\n",
    "notebookScope.plot = (sgvSelector, variableName) => {\n",
    "    let dtreeLoader = interactive.configureRequire({\n",
    "        paths: {\n",
    "            d3: \"https://d3js.org/d3.v6.min\"\n",
    "        }\n",
    "    });\n",
    "    dtreeLoader([\"d3\"], function (d3) {\n",
    "        let svg = d3.\n",
    "            select(sgvSelector);\n",
    "        svg.selectAll(\"defs\").remove();\n",
    "        svg.selectAll(\"g\").remove();\n",
    "\n",
    "        let defs = svg.append(\"defs\");\n",
    "\n",
    "        let filter = defs.append(\"filter\").attr(\"id\", \"gooeyCodeFilter\");\n",
    "\n",
    "        filter.append(\"feGaussianBlur\")\n",
    "            .attr(\"in\", \"SourceGraphic\")\n",
    "            .attr(\"stdDeviation\", \"10\")\n",
    "            .attr(\"color-interpolation-filters\", \"sRGB\")\n",
    "            .attr(\"result\", \"blur\");\n",
    "\n",
    "        filter.append(\"feColorMatrix\")\n",
    "            .attr(\"in\", \"blur\")\n",
    "            .attr(\"mode\", \"matrix\")\n",
    "            .attr(\"values\", \"1 0 0 0 0  0 1 0 0 0  0 0 1 0 0  0 0 0 19 -9\")\n",
    "            .attr(\"result\", \"gooey\");\n",
    "\n",
    "        let container = d3\n",
    "            .select(sgvSelector)\n",
    "            .append(\"g\")\n",
    "            .style(\"filter\", \"url(#gooeyCodeFilter)\");\n",
    "\n",
    "\n",
    "        console.log(container);\n",
    "\n",
    "        let updateD3Rendering = () => interactive.csharp.getVariable(variableName)\n",
    "            .then(data => {\n",
    "                var i = 0;\n",
    "                var p = container\n",
    "                    .selectAll(\".points\")\n",
    "                    .data(data, (d, i) => i);\n",
    "\n",
    "                p.transition()\n",
    "                    .duration(2000)\n",
    "                    .style(\"fill\", d => d3.interpolateTurbo(d / 80))\n",
    "                    .attr(\"r\", d => Math.max(0, d));\n",
    "\n",
    "                p.enter()\n",
    "                    .append(\"circle\")\n",
    "                    .attr(\"class\", \"points\")\n",
    "                    .attr(\"cy\", 80)\n",
    "                    .attr(\"cx\", (d,i) => ((i) + 1) * 60)\n",
    "                    .transition()\n",
    "                    .duration(2000)\n",
    "                    .style(\"fill\", d => d3.interpolateTurbo(d / 80))\n",
    "                    .ease(d3.easeElasticOut.period(1.00))\n",
    "                    .attr(\"r\", d => Math.max(0, d)),\n",
    "\n",
    "                    p.exit()\n",
    "                        .transition()\n",
    "                        .duration(1000)\n",
    "                        .attr(\"r\", 0)\n",
    "                        .remove();\n",
    "            });\n",
    "        notebookScope.interval = setInterval(() => updateD3Rendering(), 3000);\n",
    "    });\n",
    "}"
   ]
  },
  {
   "cell_type": "code",
   "execution_count": 23,
   "metadata": {},
   "outputs": [],
   "source": [
    "#!c#\n",
    "\n",
    "var rnd = new Random();\n",
    "var a = Enumerable.Range(1,rnd.Next(4,12)).Select( t => rnd.Next(t, t*10)).ToArray();"
   ]
  },
  {
   "cell_type": "code",
   "execution_count": 24,
   "metadata": {},
   "outputs": [
    {
     "data": {
      "text/html": [
       "<svg id=\"dataPlot1\" width=\"100%\" height=200></svg>\n",
       "\n"
      ]
     },
     "metadata": {},
     "output_type": "display_data"
    },
    {
     "data": {
      "text/html": [
       "<script type=\"text/javascript\">\n",
       "if (typeof window.createDotnetInteractiveClient === typeof Function) {\n",
       "    window.createDotnetInteractiveClient('http://127.0.0.1:1100/').then(async function (interactive) {\n",
       "        const console = interactive.getConsole('91f0d2cd531c427da924bd0ee4fd43ea');\n",
       "        const notebookScope = getDotnetInteractiveScope('http://127.0.0.1:1100/');\n",
       "        try {\n",
       "\n",
       "await Object.getPrototypeOf(async function() {}).constructor(\n",
       "    \"interactive\",\n",
       "    \"console\",\n",
       "    \"notebookScope\",\n",
       "    \"notebookScope.plot(\\\"svg#dataPlot1\\\", \\\"a\\\");\\n\"\n",
       ")(\n",
       "    interactive,\n",
       "    console,\n",
       "    notebookScope\n",
       ");\n",
       "\n",
       "        } catch (err) {\n",
       "            interactive.failCommand(err, '91f0d2cd531c427da924bd0ee4fd43ea');\n",
       "        } finally {\n",
       "            await interactive.waitForAllEventsToPublish('91f0d2cd531c427da924bd0ee4fd43ea');\n",
       "            await interactive.markExecutionComplete('91f0d2cd531c427da924bd0ee4fd43ea');\n",
       "        }\n",
       "    });\n",
       "}\n",
       "</script>"
      ]
     },
     "metadata": {},
     "output_type": "display_data"
    }
   ],
   "source": [
    "#!html\n",
    "<svg id=\"dataPlot1\" width=\"100%\" height=200></svg>\n",
    "\n",
    "#!js\n",
    "notebookScope.plot(\"svg#dataPlot1\", \"a\");\n"
   ]
  },
  {
   "cell_type": "code",
   "execution_count": 25,
   "metadata": {},
   "outputs": [],
   "source": [
    "#!csharp\n",
    "for(var i = 0; i < 10; i++){\n",
    "    await Task.Delay(1000);\n",
    "    var limit = rnd.Next(4,12);\n",
    "    a = Enumerable.Range(1,limit).Select( t => rnd.Next(30, 80)).ToArray();\n",
    "}"
   ]
  },
  {
   "cell_type": "code",
   "execution_count": 26,
   "metadata": {},
   "outputs": [
    {
     "data": {
      "text/html": [
       "<div><div></div><div></div><div><strong>Installed Packages</strong><ul><li><span>Microsoft.Data.Analysis, 0.19.0</span></li></ul></div></div>"
      ]
     },
     "metadata": {},
     "output_type": "display_data"
    },
    {
     "data": {
      "text/markdown": [
       "Loading extensions from `Microsoft.Data.Analysis.Interactive.dll`"
      ]
     },
     "metadata": {},
     "output_type": "display_data"
    }
   ],
   "source": [
    "#!csharp\n",
    "#r \"nuget: Microsoft.Data.Analysis, 0.19.0\"\n",
    "\n",
    "using Microsoft.Data.Analysis;"
   ]
  },
  {
   "cell_type": "code",
   "execution_count": 30,
   "metadata": {},
   "outputs": [
    {
     "data": {
      "text/html": [
       "<table id=\"table_637815315599593339\"><thead><tr><th><i>index</i></th><th>DateTimes</th><th>Ints</th><th>Strings</th></tr></thead><tbody><tr><td><i><div class=\"dni-plaintext\">0</div></i></td><td><span>2019-01-01 00:00:00Z</span></td><td><div class=\"dni-plaintext\">&lt;null&gt;</div></td><td><div class=\"dni-plaintext\">&lt;null&gt;</div></td></tr><tr><td><i><div class=\"dni-plaintext\">1</div></i></td><td><span>2019-01-01 00:00:00Z</span></td><td><div class=\"dni-plaintext\">&lt;null&gt;</div></td><td><div class=\"dni-plaintext\">&lt;null&gt;</div></td></tr><tr><td><i><div class=\"dni-plaintext\">2</div></i></td><td><span>2019-01-02 00:00:00Z</span></td><td><div class=\"dni-plaintext\">&lt;null&gt;</div></td><td><div class=\"dni-plaintext\">&lt;null&gt;</div></td></tr></tbody></table>"
      ]
     },
     "execution_count": 30,
     "metadata": {},
     "output_type": "execute_result"
    }
   ],
   "source": [
    "#!csharp\n",
    "\n",
    "PrimitiveDataFrameColumn<DateTime> dateTimes = new PrimitiveDataFrameColumn<DateTime>(\"DateTimes\"); // Default length is 0.\n",
    "PrimitiveDataFrameColumn<int> ints = new PrimitiveDataFrameColumn<int>(\"Ints\", 3); // Makes a column of length 3. Filled with nulls initially\n",
    "StringDataFrameColumn strings = new StringDataFrameColumn(\"Strings\", 3); // Makes a column of length 3. Filled with nulls initially\n",
    "\n",
    "// Append 3 values to dateTimes\n",
    "dateTimes.Append(DateTime.Parse(\"2019/01/01\"));\n",
    "dateTimes.Append(DateTime.Parse(\"2019/01/01\"));\n",
    "dateTimes.Append(DateTime.Parse(\"2019/01/02\"));\n",
    "\n",
    "DataFrame df = new DataFrame(dateTimes, ints, strings);\n",
    "df"
   ]
  },
  {
   "cell_type": "code",
   "execution_count": 31,
   "metadata": {},
   "outputs": [
    {
     "data": {
      "text/html": [
       "<table id=\"table_637815316505505404\"><thead><tr><th><i>index</i></th><th>DateTimes</th><th>Ints</th><th>Strings</th></tr></thead><tbody><tr><td><i><div class=\"dni-plaintext\">0</div></i></td><td><span>2019-01-01 00:00:00Z</span></td><td><div class=\"dni-plaintext\">&lt;null&gt;</div></td><td><div class=\"dni-plaintext\">&lt;null&gt;</div></td></tr><tr><td><i><div class=\"dni-plaintext\">1</div></i></td><td><span>2019-01-01 00:00:00Z</span></td><td><div class=\"dni-plaintext\">100</div></td><td>Foo!</td></tr><tr><td><i><div class=\"dni-plaintext\">2</div></i></td><td><span>2019-01-02 00:00:00Z</span></td><td><div class=\"dni-plaintext\">&lt;null&gt;</div></td><td><div class=\"dni-plaintext\">&lt;null&gt;</div></td></tr></tbody></table>"
      ]
     },
     "execution_count": 31,
     "metadata": {},
     "output_type": "execute_result"
    }
   ],
   "source": [
    "#!csharp\n",
    "\n",
    "ints[1] = 100;\n",
    "strings[1] = \"Foo!\";\n",
    "\n",
    "df"
   ]
  },
  {
   "cell_type": "code",
   "execution_count": 32,
   "metadata": {},
   "outputs": [],
   "source": [
    "#!csharp\n",
    "\n",
    "df[0, 1] = 10; // 0 is the rowIndex, and 1 is the columnIndex. This sets the 0th value in the Ints columns to 10\n",
    "df[\"Ints\"].Add(5, inPlace: true);"
   ]
  },
  {
   "cell_type": "code",
   "execution_count": 35,
   "metadata": {},
   "outputs": [
    {
     "data": {
      "text/html": [
       "<table id=\"table_637815318932681929\"><thead><tr><th><i>index</i></th><th>DateTimes</th><th>Ints</th><th>Strings</th></tr></thead><tbody><tr><td><i><div class=\"dni-plaintext\">0</div></i></td><td><span>2019-01-01 00:00:00Z</span></td><td><div class=\"dni-plaintext\">300</div></td><td>Bar</td></tr><tr><td><i><div class=\"dni-plaintext\">1</div></i></td><td><span>2019-01-01 00:00:00Z</span></td><td><div class=\"dni-plaintext\">2100</div></td><td>Foo!</td></tr><tr><td><i><div class=\"dni-plaintext\">2</div></i></td><td><span>2019-01-02 00:00:00Z</span></td><td><div class=\"dni-plaintext\">-1</div></td><td>Bar</td></tr></tbody></table>"
      ]
     },
     "execution_count": 35,
     "metadata": {},
     "output_type": "execute_result"
    }
   ],
   "source": [
    "#!csharp\n",
    "\n",
    "df[\"Ints\"] = (ints / 5) * 100;\n",
    "\n",
    "df[\"Ints\"].FillNulls(-1, inPlace: true);\n",
    "df[\"Strings\"].FillNulls(\"Bar\", inPlace: true);\n",
    "\n",
    "df"
   ]
  },
  {
   "cell_type": "code",
   "execution_count": 36,
   "metadata": {},
   "outputs": [
    {
     "data": {
      "text/html": [
       "<table id=\"table_637815319596483646\"><thead><tr><th><i>index</i></th><th>DateTimes</th><th>Ints</th><th>Strings</th></tr></thead><tbody><tr><td><i><div class=\"dni-plaintext\">0</div></i></td><td><span>2019-01-01 00:00:00Z</span></td><td><div class=\"dni-plaintext\">300</div></td><td>Bar</td></tr><tr><td><i><div class=\"dni-plaintext\">1</div></i></td><td><span>2019-01-02 00:00:00Z</span></td><td><div class=\"dni-plaintext\">-1</div></td><td>Bar</td></tr></tbody></table>"
      ]
     },
     "execution_count": 36,
     "metadata": {},
     "output_type": "execute_result"
    }
   ],
   "source": [
    "#!csharp\n",
    "\n",
    "PrimitiveDataFrameColumn<bool> boolFilter = df[\"Strings\"].ElementwiseEquals(\"Bar\");\n",
    "DataFrame filtered = df.Filter(boolFilter);\n",
    "\n",
    "filtered"
   ]
  },
  {
   "cell_type": "code",
   "execution_count": 3,
   "metadata": {},
   "outputs": [
    {
     "data": {
      "text/html": "<div><h3>.NET kernel</h3><div><div style=\"text-indent:1.5em\"><pre><span style=\"text-indent:1.5em; color:#512bd4\">#!csharp</span><span style=\"text-indent:1.5em; color:darkgray\">, </span><span style=\"text-indent:1.5em; color:#512bd4\">#!c#</span><span style=\"text-indent:1.5em; color:darkgray\">, </span><span style=\"text-indent:1.5em; color:#512bd4\">#!C#</span></pre><div style=\"text-indent:3em\">Run the code that follows using the csharp kernel.</div></div><div style=\"text-indent:1.5em\"><pre><span style=\"text-indent:1.5em; color:#512bd4\">#!fsharp</span><span style=\"text-indent:1.5em; color:darkgray\">, </span><span style=\"text-indent:1.5em; color:#512bd4\">#!f#</span><span style=\"text-indent:1.5em; color:darkgray\">, </span><span style=\"text-indent:1.5em; color:#512bd4\">#!F#</span></pre><div style=\"text-indent:3em\">Run the code that follows using the fsharp kernel.</div></div><div style=\"text-indent:1.5em\"><pre><span style=\"text-indent:1.5em; color:#512bd4\">#!pwsh</span><span style=\"text-indent:1.5em; color:darkgray\">, </span><span style=\"text-indent:1.5em; color:#512bd4\">#!powershell</span></pre><div style=\"text-indent:3em\">Run the code that follows using the pwsh kernel.</div></div><div style=\"text-indent:1.5em\"><pre><span style=\"text-indent:1.5em; color:#512bd4\">#!javascript</span><span style=\"text-indent:1.5em; color:darkgray\">, </span><span style=\"text-indent:1.5em; color:#512bd4\">#!js</span></pre><div style=\"text-indent:3em\">Run the code that follows using the javascript kernel.</div></div><div style=\"text-indent:1.5em\"><pre><span style=\"text-indent:1.5em; color:#512bd4\">#!html</span></pre><div style=\"text-indent:3em\">Run the code that follows using the html kernel.</div></div><div style=\"text-indent:1.5em\"><pre><span style=\"text-indent:1.5em; color:#512bd4\">#!value</span></pre><div style=\"text-indent:3em\">Stores a value that can then be shared with other subkernels.</div></div><div style=\"text-indent:1.5em\"><pre><span style=\"text-indent:1.5em; color:#512bd4\">#!lsmagic</span></pre><div style=\"text-indent:3em\">List the available magic commands / directives</div></div><div style=\"text-indent:1.5em\"><pre><span style=\"text-indent:1.5em; color:#512bd4\">#!markdown</span></pre><div style=\"text-indent:3em\">Convert the code that follows from Markdown into HTML</div></div><div style=\"text-indent:1.5em\"><pre><span style=\"text-indent:1.5em; color:#512bd4\">#!time</span></pre><div style=\"text-indent:3em\">Time the execution of the following code in the submission.</div></div><div style=\"text-indent:1.5em\"><pre><span style=\"text-indent:1.5em; color:#512bd4\">#!log</span></pre><div style=\"text-indent:3em\">Enables session logging.</div></div><div style=\"text-indent:1.5em\"><pre><span style=\"text-indent:1.5em; color:#512bd4\">#!about</span></pre><div style=\"text-indent:3em\">Show version and build information</div></div><div style=\"text-indent:1.5em\"><pre><span style=\"text-indent:1.5em; color:#512bd4\">#!connect</span></pre><div style=\"text-indent:3em\">Connects additional subkernels</div><div style=\"text-indent:3em\"><pre><span style=\"text-indent:4.5em; color:#512bd4\">named-pipe</span></pre><div style=\"text-indent:6em\">Connects to a kernel using named pipes</div></div><div style=\"text-indent:3em\"><pre><span style=\"text-indent:4.5em; color:#512bd4\">signalr</span></pre><div style=\"text-indent:6em\">Connects to a kernel using SignalR</div></div></div></div></div>"
     },
     "metadata": {},
     "output_type": "display_data"
    },
    {
     "data": {
      "text/html": "<div><h3>csharp kernel</h3><div><div style=\"text-indent:1.5em\"><pre><span style=\"text-indent:1.5em; color:#512bd4\">#i</span></pre><div style=\"text-indent:3em\"><div class=\"dni-plaintext\">&lt;null&gt;</div></div></div><div style=\"text-indent:1.5em\"><pre><span style=\"text-indent:1.5em; color:#512bd4\">#r</span></pre><div style=\"text-indent:3em\"><div class=\"dni-plaintext\">&lt;null&gt;</div></div></div><div style=\"text-indent:1.5em\"><pre><span style=\"text-indent:1.5em; color:#512bd4\">#!whos</span><span style=\"text-indent:1.5em; color:darkgray\">, </span><span style=\"text-indent:1.5em; color:#512bd4\">#!who</span></pre><div style=\"text-indent:3em\">Display the names of the current top-level variables and their values.</div></div><div style=\"text-indent:1.5em\"><pre><span style=\"text-indent:1.5em; color:#512bd4\">#!share</span></pre><div style=\"text-indent:3em\">Share a .NET variable between subkernels</div></div><div style=\"text-indent:1.5em\"><pre><span style=\"text-indent:1.5em; color:#512bd4\">#!lsmagic</span></pre><div style=\"text-indent:3em\">List the available magic commands / directives</div></div></div></div>"
     },
     "metadata": {},
     "output_type": "display_data"
    },
    {
     "data": {
      "text/html": "<div><h3>fsharp kernel</h3><div><div style=\"text-indent:1.5em\"><pre><span style=\"text-indent:1.5em; color:#512bd4\">#i</span></pre><div style=\"text-indent:3em\"><div class=\"dni-plaintext\">&lt;null&gt;</div></div></div><div style=\"text-indent:1.5em\"><pre><span style=\"text-indent:1.5em; color:#512bd4\">#r</span></pre><div style=\"text-indent:3em\"><div class=\"dni-plaintext\">&lt;null&gt;</div></div></div><div style=\"text-indent:1.5em\"><pre><span style=\"text-indent:1.5em; color:#512bd4\">#!whos</span><span style=\"text-indent:1.5em; color:darkgray\">, </span><span style=\"text-indent:1.5em; color:#512bd4\">#!who</span></pre><div style=\"text-indent:3em\">Display the names of the current top-level variables and their values.</div></div><div style=\"text-indent:1.5em\"><pre><span style=\"text-indent:1.5em; color:#512bd4\">#!share</span></pre><div style=\"text-indent:3em\">Share a .NET variable between subkernels</div></div><div style=\"text-indent:1.5em\"><pre><span style=\"text-indent:1.5em; color:#512bd4\">#!lsmagic</span></pre><div style=\"text-indent:3em\">List the available magic commands / directives</div></div></div></div>"
     },
     "metadata": {},
     "output_type": "display_data"
    },
    {
     "data": {
      "text/html": "<div><h3>pwsh kernel</h3><div><div style=\"text-indent:1.5em\"><pre><span style=\"text-indent:1.5em; color:#512bd4\">#!share</span></pre><div style=\"text-indent:3em\">Share a .NET variable between subkernels</div></div><div style=\"text-indent:1.5em\"><pre><span style=\"text-indent:1.5em; color:#512bd4\">#!lsmagic</span></pre><div style=\"text-indent:3em\">List the available magic commands / directives</div></div></div></div>"
     },
     "metadata": {},
     "output_type": "display_data"
    },
    {
     "data": {
      "text/html": "<div><h3>javascript kernel</h3><div><div style=\"text-indent:1.5em\"><pre><span style=\"text-indent:1.5em; color:#512bd4\">#!lsmagic</span></pre><div style=\"text-indent:3em\">List the available magic commands / directives</div></div></div></div>"
     },
     "metadata": {},
     "output_type": "display_data"
    },
    {
     "data": {
      "text/html": "<div><h3>html kernel</h3><div><div style=\"text-indent:1.5em\"><pre><span style=\"text-indent:1.5em; color:#512bd4\">#!lsmagic</span></pre><div style=\"text-indent:3em\">List the available magic commands / directives</div></div></div></div>"
     },
     "metadata": {},
     "output_type": "display_data"
    },
    {
     "data": {
      "text/html": "<div><h3>value kernel</h3><div><div style=\"text-indent:1.5em\"><pre><span style=\"text-indent:1.5em; color:#512bd4\">#!whos</span><span style=\"text-indent:1.5em; color:darkgray\">, </span><span style=\"text-indent:1.5em; color:#512bd4\">#!who</span></pre><div style=\"text-indent:3em\">Display the names of the current top-level variables and their values.</div></div><div style=\"text-indent:1.5em\"><pre><span style=\"text-indent:1.5em; color:#512bd4\">#!lsmagic</span></pre><div style=\"text-indent:3em\">List the available magic commands / directives</div></div></div></div>"
     },
     "metadata": {},
     "output_type": "display_data"
    }
   ],
   "source": [
    "#!lsmagic"
   ]
  },
  {
   "cell_type": "code",
   "execution_count": 4,
   "metadata": {},
   "outputs": [
    {
     "data": {
      "text/html": "<table><tbody><tr><td><img src=\"data:image/png;base64, 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\" width=\"125em\"></img></td><td style=\"line-height:.8em\"><p style=\"font-size:1.5em\"><b>.NET Interactive</b></p><p>&#169; 2020 Microsoft Corporation</p><p><b>Version: </b>1.0.155302+ea10eecdeb2eb5f0ccbac5d7eec8b97a99453388</p><p><b>Build date: </b>2020-11-16T02:27:49.4282347Z</p><p><a href=\"https://github.com/dotnet/interactive\">https://github.com/dotnet/interactive</a></p></td></tr></tbody></table>"
     },
     "metadata": {},
     "output_type": "display_data"
    }
   ],
   "source": [
    "#!about"
   ]
  }
 ],
 "metadata": {
  "kernelspec": {
   "display_name": ".NET (PowerShell)",
   "language": "PowerShell",
   "name": ".net-powershell"
  },
  "language_info": {
   "file_extension": ".ps1",
   "mimetype": "text/x-powershell",
   "name": "PowerShell",
   "pygments_lexer": "powershell",
   "version": "7.0"
  }
 },
 "nbformat": 4,
 "nbformat_minor": 5
}