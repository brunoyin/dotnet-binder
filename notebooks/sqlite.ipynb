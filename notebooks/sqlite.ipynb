{
 "cells": [
  {
   "cell_type": "code",
   "execution_count": null,
   "metadata": {
    "dotnet_interactive": {
     "language": "csharp"
    }
   },
   "outputs": [
    {
     "data": {
      "text/html": [
       "<div><div></div><div></div><div><strong>Installed Packages</strong><ul><li><span>Microsoft.DotNet.Interactive.ExtensionLab, 1.0.0-beta.22103.1</span></li></ul></div></div>"
      ]
     },
     "metadata": {},
     "output_type": "display_data"
    },
    {
     "data": {
      "text/markdown": [
       "Loading extensions from `Microsoft.DotNet.Interactive.ExtensionLab.dll`"
      ]
     },
     "metadata": {},
     "output_type": "display_data"
    },
    {
     "data": {
      "text/html": [
       "<details><summary>Create strongly-typed dataframes using<code>#!linqify</code>.</summary>\r\n",
       "    <p>The <code>#!linqify</code> magic command replaces a <a href=\"https://www.nuget.org/packages/Microsoft.Data.Analysis/\"><code>Microsoft.Data.Analysis.DataFrame</code></a> variable with a generated, strongly-typed data frame, allowing the use of LINQ operations over the contained data.</p>\r\n",
       "    </details>"
      ]
     },
     "metadata": {},
     "output_type": "display_data"
    },
    {
     "data": {
      "text/html": [
       "<details><summary>Inspect code compilation details using the <code>#!inspect</code> magic command.</summary>\r\n",
       "    <p>The <code>#!inspect</code> magic command allows you to see the C# decompilation, IL, and JIT Asm for the code in a C# cell.</p>\r\n",
       "    <img src=\"https://user-images.githubusercontent.com/547415/109560515-d5749a00-7a90-11eb-9fa3-51b737345bb4.png\" width=\"75%\" />\r\n",
       "    </details>"
      ]
     },
     "metadata": {},
     "output_type": "display_data"
    },
    {
     "data": {
      "text/html": [
       "<details><summary>Use the <code>#!record</code> magic command to keep a transcript of the code you run.</summary>\r\n",
       "    <p>Once you enable transcripts using <code>#!record</code>, each code submission (including re-running cells) is recorded in the specified file. The JSON format used is the same format recognized by the .NET Interactive <code>stdio</code> and <code>http</code> APIs and can be used to replay an interactive session via automation.</p>\r\n",
       "    <img src=\"https://user-images.githubusercontent.com/547415/109562409-343b1300-7a93-11eb-8ebf-79bb6af028cf.png\" width=\"75%\" />\r\n",
       "    </details>"
      ]
     },
     "metadata": {},
     "output_type": "display_data"
    },
    {
     "data": {
      "text/html": [
       "<details><summary>Query SQLite databases.</summary>\r\n",
       "    <p>This extension adds support for connecting to SQLite databases using the <code>#!connect sqlite</code> magic command. For more information, run a cell using the <code>#!sql</code> magic command.</p>\r\n",
       "    </details>"
      ]
     },
     "metadata": {},
     "output_type": "display_data"
    },
    {
     "data": {
      "text/markdown": [
       "Loading extensions from `Microsoft.Data.Analysis.Interactive.dll`"
      ]
     },
     "metadata": {},
     "output_type": "display_data"
    }
   ],
   "source": [
    "#r \"nuget: Microsoft.DotNet.Interactive.ExtensionLab, 1.0.0-beta.22103.1\""
   ]
  },
  {
   "cell_type": "code",
   "execution_count": null,
   "metadata": {
    "dotnet_interactive": {
     "language": "sql"
    }
   },
   "outputs": [
    {
     "data": {
      "text/plain": [
       "Kernel added: #!sql-bruno4"
      ]
     },
     "metadata": {},
     "output_type": "display_data"
    },
    {
     "data": {
      "text/html": [
       "<div><p>You can send SQL statements to one of the following connected SQL kernels:</p><code><pre>    #!sql-bruno4\n",
       "    SELECT TOP * FROM ...</pre></code></div>"
      ]
     },
     "metadata": {},
     "output_type": "display_data"
    }
   ],
   "source": [
    "#!connect sqlite \"Data Source=D:/projects/binder/bruno-notebooks/bruno.dat;Cache=Shared\" --kernel-name bruno4\n",
    "\n"
   ]
  },
  {
   "cell_type": "code",
   "execution_count": null,
   "metadata": {
    "dotnet_interactive": {
     "language": "sql"
    }
   },
   "outputs": [
    {
     "data": {
      "text/csv": [
       "\r\n"
      ],
      "text/html": [
       "<table><thead><tr></tr></thead><tbody></tbody></table>"
      ]
     },
     "metadata": {},
     "output_type": "display_data"
    }
   ],
   "source": [
    "#!sql-bruno4\n",
    "\n",
    "-- CREATE TABLE SampleTable(Col1 VARCHAR(20), Col2 INT)\n"
   ]
  },
  {
   "cell_type": "code",
   "execution_count": null,
   "metadata": {
    "dotnet_interactive": {
     "language": "sql"
    }
   },
   "outputs": [
    {
     "data": {
      "text/csv": [
       "\r\n"
      ],
      "text/html": [
       "<table><thead><tr></tr></thead><tbody></tbody></table>"
      ]
     },
     "metadata": {},
     "output_type": "display_data"
    }
   ],
   "source": [
    "#!sql-bruno4\n",
    "\n",
    "insert into SampleTable(Col1, Col2) values('James', 125)"
   ]
  },
  {
   "cell_type": "code",
   "execution_count": null,
   "metadata": {
    "dotnet_interactive": {
     "language": "sql"
    }
   },
   "outputs": [
    {
     "data": {
      "text/csv": [
       "\r\n"
      ],
      "text/html": [
       "<table><thead><tr></tr></thead><tbody></tbody></table>"
      ]
     },
     "metadata": {},
     "output_type": "display_data"
    }
   ],
   "source": [
    "#!sql-bruno4\n",
    "\n",
    "update SampleTable set Col2 = 250 where Col1 = 'Bruno'"
   ]
  },
  {
   "cell_type": "code",
   "execution_count": null,
   "metadata": {
    "dotnet_interactive": {
     "language": "sql"
    }
   },
   "outputs": [
    {
     "data": {
      "text/csv": [
       "Col2\r\n",
       "125\r\n"
      ],
      "text/html": [
       "<table><thead><tr><td><span>Col2</span></td></tr></thead><tbody><tr><td><div class=\"dni-plaintext\">125</div></td></tr></tbody></table>"
      ]
     },
     "metadata": {},
     "output_type": "display_data"
    }
   ],
   "source": [
    "#!sql-bruno4\n",
    "\n",
    "select Col2 from SampleTable where Col1 = 'Bruno'"
   ]
  },
  {
   "cell_type": "code",
   "execution_count": null,
   "metadata": {
    "dotnet_interactive": {
     "language": "csharp"
    }
   },
   "outputs": [
    {
     "data": {
      "text/html": [
       "<div><div></div><div></div><div><strong>Installed Packages</strong><ul><li><span>Microsoft.Data.Sqlite, 6.0.3</span></li></ul></div></div>"
      ]
     },
     "metadata": {},
     "output_type": "display_data"
    }
   ],
   "source": [
    "#r \"nuget: Microsoft.Data.Sqlite, 6.0.3\""
   ]
  },
  {
   "cell_type": "code",
   "execution_count": null,
   "metadata": {
    "dotnet_interactive": {
     "language": "csharp"
    }
   },
   "outputs": [],
   "source": [
    "using Microsoft.Data.Sqlite;\n",
    "// using Microsoft.Data.Sqlite.Properties;\n",
    "// using System;\n",
    "// using System.Collections.Generic;\n",
    "// using System.Data.Common;\n",
    "// using System.IO;"
   ]
  },
  {
   "cell_type": "code",
   "execution_count": null,
   "metadata": {
    "dotnet_interactive": {
     "language": "csharp"
    }
   },
   "outputs": [
    {
     "name": "stdout",
     "output_type": "stream",
     "text": [
      "Hello, 250!\r\n"
     ]
    }
   ],
   "source": [
    "using(var connection = new SqliteConnection(\"Data Source=D:/projects/binder/bruno-notebooks/bruno.dat;Cache=Shared\")){\n",
    "    connection.Open();\n",
    "    var command = connection.CreateCommand();\n",
    "    command.CommandText =\n",
    "    @\"\n",
    "        SELECT Col2\n",
    "        FROM SampleTable\n",
    "        WHERE Col1 = $id\n",
    "    \";\n",
    "    command.Parameters.AddWithValue(\"$id\", \"Bruno\");\n",
    "    using (var reader = command.ExecuteReader())\n",
    "    {\n",
    "        while (reader.Read()){\n",
    "            var Col2 = reader.GetInt32(0);\n",
    "            Console.WriteLine($\"Hello, {Col2}!\");\n",
    "        }\n",
    "    }\n",
    "}\n"
   ]
  },
  {
   "cell_type": "code",
   "execution_count": null,
   "metadata": {
    "dotnet_interactive": {
     "language": "csharp"
    }
   },
   "outputs": [
    {
     "data": {
      "text/html": [
       "<div class=\"tab-wrap\">\r\n",
       "<link href=\"https://cdn.jsdelivr.net/npm/prismjs@1.21.0/themes/prism-coy.min.css\" rel=\"stylesheet\"/>\r\n",
       "<link href=\"https://cdn.jsdelivr.net/npm/prismjs@1.21.0/plugins/match-braces/prism-match-braces.min.css\" rel=\"stylesheet\"/>\r\n",
       "<link href=\"https://cdn.jsdelivr.net/npm/prismjs@1.21.0/plugins/line-numbers/prism-line-numbers.min.css\" rel=\"stylesheet\"/>\r\n",
       "<link href=\"https://cdn.jsdelivr.net/npm/prismjs@1.21.0/plugins/line-highlight/prism-line-highlight.min.css\" rel=\"stylesheet\"/><style type=\"text/css\">\r\n",
       "                /* Tabbed view */\r\n",
       "                .tab-wrap {\r\n",
       "                    width: 100%;\r\n",
       "                    margin: 0 auto;\r\n",
       "                    position: relative;\r\n",
       "                    display: -webkit-box;\r\n",
       "                    display: flex;\r\n",
       "                    top: 0;\r\n",
       "                    min-height: 800px;\r\n",
       "                }\r\n",
       "                .tab-label-content {\r\n",
       "                    min-height: 800px;\r\n",
       "                    width: 100%;\r\n",
       "                }\r\n",
       "                .tab-label-content .tab-content {\r\n",
       "                    width: 99%;\r\n",
       "                    position: absolute;\r\n",
       "                    top: 20px;\r\n",
       "                    left: 16px;\r\n",
       "                    display: none;\r\n",
       "                }\r\n",
       "                input[type=\"radio\"][name=\"tabs\"] {\r\n",
       "                    position: relative;\r\n",
       "                    z-index: 10;\r\n",
       "                    border-bottom: 3px solid transparent;\r\n",
       "                    display: none;\r\n",
       "                }\r\n",
       "                input[type=\"radio\"][name=\"tabs\"]:checked + .tab-label-content label {\r\n",
       "                    color: #333;\r\n",
       "                    font-weight: 800;\r\n",
       "                    border-bottom: 3px solid #777;\r\n",
       "                }\r\n",
       "                input[type=\"radio\"][name=\"tabs\"]:checked + .tab-label-content .tab-content {\r\n",
       "                    display: block;\r\n",
       "                }\r\n",
       "\r\n",
       "                label {\r\n",
       "                    cursor: pointer;\r\n",
       "                    color: #1b1b1b;\r\n",
       "                    box-sizing: border-box;\r\n",
       "                    display: -webkit-inline-box;\r\n",
       "                    display: inline-flex;\r\n",
       "                    -webkit-box-align: center;\r\n",
       "                    align-items: center;\r\n",
       "                    -webkit-box-pack: center;\r\n",
       "                    justify-content: center;\r\n",
       "                    text-align: center;\r\n",
       "                    height: 30px;\r\n",
       "                    -webkit-transition: color 0.2s ease;\r\n",
       "                    transition: color 0.2s ease;\r\n",
       "                    width: 100%;\r\n",
       "                }\r\n",
       "                .code {\r\n",
       "                    width: 100%;\r\n",
       "                    top: 1.5em;\r\n",
       "                    left: -1em;\r\n",
       "                }\r\n",
       "                pre[class*=language-]:after, pre[class*=language-]:before {\r\n",
       "                    box-shadow: none !important;\r\n",
       "                }\r\n",
       "                code[class*=language-], pre[class*=language-] {\r\n",
       "                    font-size: 1em !important;\r\n",
       "                }\r\n",
       "\r\n",
       "</style><input type=\"radio\" name=\"tabs\" id=\"tab1\" checked=\"checked\" /><div class=\"tab-label-content\" id=\"tab1-content\"><label for=\"tab1\">C#</label><div class=\"tab-content\"><pre class=\"code line-numbers\"><code class=\"language-csharp\">using System;\r\n",
       "using System.Diagnostics;\r\n",
       "using System.Reflection;\r\n",
       "using System.Runtime.CompilerServices;\r\n",
       "using System.Security;\r\n",
       "using System.Security.Permissions;\r\n",
       "using System.Threading.Tasks;\r\n",
       "\r\n",
       "[assembly: CompilationRelaxations(8)]\r\n",
       "[assembly: RuntimeCompatibility(WrapNonExceptionThrows = true)]\r\n",
       "[assembly: Debuggable(DebuggableAttribute.DebuggingModes.Default | DebuggableAttribute.DebuggingModes.DisableOptimizations | DebuggableAttribute.DebuggingModes.IgnoreSymbolStoreSequencePoints | DebuggableAttribute.DebuggingModes.EnableEditAndContinue)]\r\n",
       "[assembly: SecurityPermission(SecurityAction.RequestMinimum, SkipVerification = true)]\r\n",
       "[assembly: AssemblyVersion(&quot;0.0.0.0&quot;)]\r\n",
       "[module: UnverifiableCode]\r\n",
       "internal sealed class Script\r\n",
       "{\r\n",
       "    private sealed class &lt;&lt;Initialize&gt;&gt;d__0 : IAsyncStateMachine\r\n",
       "    {\r\n",
       "        public int &lt;&gt;1__state;\r\n",
       "\r\n",
       "        public AsyncTaskMethodBuilder&lt;object&gt; &lt;&gt;t__builder;\r\n",
       "\r\n",
       "        public Script &lt;&gt;4__this;\r\n",
       "\r\n",
       "        private void MoveNext()\r\n",
       "        {\r\n",
       "            int num = &lt;&gt;1__state;\r\n",
       "            object result;\r\n",
       "            try\r\n",
       "            {\r\n",
       "                Console.WriteLine(&quot;inspect!?&quot;);\r\n",
       "                result = null;\r\n",
       "            }\r\n",
       "            catch (Exception exception)\r\n",
       "            {\r\n",
       "                &lt;&gt;1__state = -2;\r\n",
       "                &lt;&gt;t__builder.SetException(exception);\r\n",
       "                return;\r\n",
       "            }\r\n",
       "            &lt;&gt;1__state = -2;\r\n",
       "            &lt;&gt;t__builder.SetResult(result);\r\n",
       "        }\r\n",
       "\r\n",
       "        void IAsyncStateMachine.MoveNext()\r\n",
       "        {\r\n",
       "            //ILSpy generated this explicit interface implementation from .override directive in MoveNext\r\n",
       "            this.MoveNext();\r\n",
       "        }\r\n",
       "\r\n",
       "        [DebuggerHidden]\r\n",
       "        private void SetStateMachine(IAsyncStateMachine stateMachine)\r\n",
       "        {\r\n",
       "        }\r\n",
       "\r\n",
       "        void IAsyncStateMachine.SetStateMachine(IAsyncStateMachine stateMachine)\r\n",
       "        {\r\n",
       "            //ILSpy generated this explicit interface implementation from .override directive in SetStateMachine\r\n",
       "            this.SetStateMachine(stateMachine);\r\n",
       "        }\r\n",
       "    }\r\n",
       "\r\n",
       "    internal async Task&lt;object&gt; &lt;Initialize&gt;()\r\n",
       "    {\r\n",
       "        Console.WriteLine(&quot;inspect!?&quot;);\r\n",
       "        return null;\r\n",
       "    }\r\n",
       "\r\n",
       "    private static void &lt;Main&gt;()\r\n",
       "    {\r\n",
       "        new Script().&lt;Initialize&gt;().GetAwaiter().GetResult();\r\n",
       "    }\r\n",
       "}\r\n",
       "</code></pre></div></div><input type=\"radio\" name=\"tabs\" id=\"tab2\" /><div class=\"tab-label-content\" id=\"tab2-content\"><label for=\"tab2\">IL</label><div class=\"tab-content\"><pre class=\"code line-numbers\"><code class=\"language-cil\">.class /* 02000001 */ private auto ansi &#39;&lt;Module&gt;&#39;\r\n",
       "{\r\n",
       "} // end of class &lt;Module&gt;\r\n",
       "\r\n",
       ".class /* 02000002 */ private auto ansi sealed beforefieldinit Script\r\n",
       "    extends [System.Private.CoreLib]System.Object\r\n",
       "{\r\n",
       "    // Nested Types\r\n",
       "    .class /* 02000003 */ nested private auto ansi sealed beforefieldinit &#39;&lt;&lt;Initialize&gt;&gt;d__0&#39;\r\n",
       "        extends [System.Private.CoreLib]System.Object\r\n",
       "        implements [System.Private.CoreLib]System.Runtime.CompilerServices.IAsyncStateMachine\r\n",
       "    {\r\n",
       "        // Fields\r\n",
       "        .field /* 04000001 */ public int32 &#39;&lt;&gt;1__state&#39;\r\n",
       "        .field /* 04000002 */ public valuetype [System.Private.CoreLib]System.Runtime.CompilerServices.AsyncTaskMethodBuilder`1&lt;object&gt; &#39;&lt;&gt;t__builder&#39;\r\n",
       "        .field /* 04000003 */ public class Script &#39;&lt;&gt;4__this&#39;\r\n",
       "\r\n",
       "        // Methods\r\n",
       "        .method /* 06000004 */ public hidebysig specialname rtspecialname \r\n",
       "            instance void .ctor () cil managed \r\n",
       "        {\r\n",
       "            // Method begins at RVA 0x2095\r\n",
       "            // Code size 8 (0x8)\r\n",
       "            .maxstack 8\r\n",
       "\r\n",
       "            IL_0000: ldarg.0\r\n",
       "            IL_0001: call instance void [System.Private.CoreLib]System.Object::.ctor() /* 0A00000C */\r\n",
       "            IL_0006: nop\r\n",
       "            IL_0007: ret\r\n",
       "        } // end of method &#39;&lt;&lt;Initialize&gt;&gt;d__0&#39;::.ctor\r\n",
       "\r\n",
       "        .method /* 06000005 */ private final hidebysig newslot virtual \r\n",
       "            instance void MoveNext () cil managed \r\n",
       "        {\r\n",
       "            .override method instance void [System.Private.CoreLib]System.Runtime.CompilerServices.IAsyncStateMachine::MoveNext()\r\n",
       "            // Method begins at RVA 0x20c8\r\n",
       "            // Code size 68 (0x44)\r\n",
       "            .maxstack 2\r\n",
       "            .locals /* 11000003 */ init (\r\n",
       "                [0] int32,\r\n",
       "                [1] object,\r\n",
       "                [2] class [System.Private.CoreLib]System.Exception\r\n",
       "            )\r\n",
       "\r\n",
       "            // sequence point: hidden\r\n",
       "            IL_0000: ldarg.0\r\n",
       "            IL_0001: ldfld int32 Script/&#39;&lt;&lt;Initialize&gt;&gt;d__0&#39;::&#39;&lt;&gt;1__state&#39; /* 04000001 */\r\n",
       "            IL_0006: stloc.0\r\n",
       "            .try\r\n",
       "            {\r\n",
       "                // sequence point: (line 3, col 1) to (line 3, col 32) in _\r\n",
       "                IL_0007: ldstr &quot;inspect!?&quot; /* 70000001 */\r\n",
       "                IL_000c: call void [System.Console]System.Console::WriteLine(string) /* 0A00000F */\r\n",
       "                IL_0011: nop\r\n",
       "                // sequence point: (line 3, col 1) to (line 3, col 32) in _\r\n",
       "                IL_0012: ldnull\r\n",
       "                IL_0013: stloc.1\r\n",
       "                IL_0014: leave.s IL_002e\r\n",
       "            } // end .try\r\n",
       "            catch [System.Private.CoreLib]System.Exception\r\n",
       "            {\r\n",
       "                // sequence point: hidden\r\n",
       "                IL_0016: stloc.2\r\n",
       "                IL_0017: ldarg.0\r\n",
       "                IL_0018: ldc.i4.s -2\r\n",
       "                IL_001a: stfld int32 Script/&#39;&lt;&lt;Initialize&gt;&gt;d__0&#39;::&#39;&lt;&gt;1__state&#39; /* 04000001 */\r\n",
       "                IL_001f: ldarg.0\r\n",
       "                IL_0020: ldflda valuetype [System.Private.CoreLib]System.Runtime.CompilerServices.AsyncTaskMethodBuilder`1&lt;object&gt; Script/&#39;&lt;&lt;Initialize&gt;&gt;d__0&#39;::&#39;&lt;&gt;t__builder&#39; /* 04000002 */\r\n",
       "                IL_0025: ldloc.2\r\n",
       "                IL_0026: call instance void valuetype [System.Private.CoreLib]System.Runtime.CompilerServices.AsyncTaskMethodBuilder`1&lt;object&gt;::SetException(class [System.Private.CoreLib]System.Exception) /* 0A000010 */\r\n",
       "                IL_002b: nop\r\n",
       "                IL_002c: leave.s IL_0043\r\n",
       "            } // end handler\r\n",
       "\r\n",
       "            // sequence point: hidden\r\n",
       "            IL_002e: ldarg.0\r\n",
       "            IL_002f: ldc.i4.s -2\r\n",
       "            IL_0031: stfld int32 Script/&#39;&lt;&lt;Initialize&gt;&gt;d__0&#39;::&#39;&lt;&gt;1__state&#39; /* 04000001 */\r\n",
       "            IL_0036: ldarg.0\r\n",
       "            IL_0037: ldflda valuetype [System.Private.CoreLib]System.Runtime.CompilerServices.AsyncTaskMethodBuilder`1&lt;object&gt; Script/&#39;&lt;&lt;Initialize&gt;&gt;d__0&#39;::&#39;&lt;&gt;t__builder&#39; /* 04000002 */\r\n",
       "            IL_003c: ldloc.1\r\n",
       "            IL_003d: call instance void valuetype [System.Private.CoreLib]System.Runtime.CompilerServices.AsyncTaskMethodBuilder`1&lt;object&gt;::SetResult(!0) /* 0A000011 */\r\n",
       "            IL_0042: nop\r\n",
       "\r\n",
       "            IL_0043: ret\r\n",
       "        } // end of method &#39;&lt;&lt;Initialize&gt;&gt;d__0&#39;::MoveNext\r\n",
       "\r\n",
       "        .method /* 06000006 */ private final hidebysig newslot virtual \r\n",
       "            instance void SetStateMachine (\r\n",
       "                class [System.Private.CoreLib]System.Runtime.CompilerServices.IAsyncStateMachine stateMachine\r\n",
       "            ) cil managed \r\n",
       "        {\r\n",
       "            .custom instance void [System.Private.CoreLib]System.Diagnostics.DebuggerHiddenAttribute::.ctor() = (\r\n",
       "                01 00 00 00\r\n",
       "            )\r\n",
       "            .override method instance void [System.Private.CoreLib]System.Runtime.CompilerServices.IAsyncStateMachine::SetStateMachine(class [System.Private.CoreLib]System.Runtime.CompilerServices.IAsyncStateMachine)\r\n",
       "            // Method begins at RVA 0x2128\r\n",
       "            // Code size 1 (0x1)\r\n",
       "            .maxstack 8\r\n",
       "\r\n",
       "            IL_0000: ret\r\n",
       "        } // end of method &#39;&lt;&lt;Initialize&gt;&gt;d__0&#39;::SetStateMachine\r\n",
       "\r\n",
       "    } // end of class &lt;&lt;Initialize&gt;&gt;d__0\r\n",
       "\r\n",
       "\r\n",
       "    // Methods\r\n",
       "    .method /* 06000001 */ assembly hidebysig specialname \r\n",
       "        instance class [System.Private.CoreLib]System.Threading.Tasks.Task`1&lt;object&gt; &#39;&lt;Initialize&gt;&#39; () cil managed \r\n",
       "    {\r\n",
       "        // Method begins at RVA 0x2050\r\n",
       "        // Code size 57 (0x39)\r\n",
       "        .maxstack 2\r\n",
       "        .locals /* 11000001 */ init (\r\n",
       "            [0] class Script/&#39;&lt;&lt;Initialize&gt;&gt;d__0&#39;\r\n",
       "        )\r\n",
       "\r\n",
       "        IL_0000: newobj instance void Script/&#39;&lt;&lt;Initialize&gt;&gt;d__0&#39;::.ctor() /* 06000004 */\r\n",
       "        IL_0005: stloc.0\r\n",
       "        IL_0006: ldloc.0\r\n",
       "        IL_0007: call valuetype [System.Private.CoreLib]System.Runtime.CompilerServices.AsyncTaskMethodBuilder`1&lt;!0&gt; valuetype [System.Private.CoreLib]System.Runtime.CompilerServices.AsyncTaskMethodBuilder`1&lt;object&gt;::Create() /* 0A000009 */\r\n",
       "        IL_000c: stfld valuetype [System.Private.CoreLib]System.Runtime.CompilerServices.AsyncTaskMethodBuilder`1&lt;object&gt; Script/&#39;&lt;&lt;Initialize&gt;&gt;d__0&#39;::&#39;&lt;&gt;t__builder&#39; /* 04000002 */\r\n",
       "        IL_0011: ldloc.0\r\n",
       "        IL_0012: ldarg.0\r\n",
       "        IL_0013: stfld class Script Script/&#39;&lt;&lt;Initialize&gt;&gt;d__0&#39;::&#39;&lt;&gt;4__this&#39; /* 04000003 */\r\n",
       "        IL_0018: ldloc.0\r\n",
       "        IL_0019: ldc.i4.m1\r\n",
       "        IL_001a: stfld int32 Script/&#39;&lt;&lt;Initialize&gt;&gt;d__0&#39;::&#39;&lt;&gt;1__state&#39; /* 04000001 */\r\n",
       "        IL_001f: ldloc.0\r\n",
       "        IL_0020: ldflda valuetype [System.Private.CoreLib]System.Runtime.CompilerServices.AsyncTaskMethodBuilder`1&lt;object&gt; Script/&#39;&lt;&lt;Initialize&gt;&gt;d__0&#39;::&#39;&lt;&gt;t__builder&#39; /* 04000002 */\r\n",
       "        IL_0025: ldloca.s 0\r\n",
       "        IL_0027: call instance void valuetype [System.Private.CoreLib]System.Runtime.CompilerServices.AsyncTaskMethodBuilder`1&lt;object&gt;::Start&lt;class Script/&#39;&lt;&lt;Initialize&gt;&gt;d__0&#39;&gt;(!!0&amp;) /* 2B000001 */\r\n",
       "        IL_002c: nop\r\n",
       "        IL_002d: ldloc.0\r\n",
       "        IL_002e: ldflda valuetype [System.Private.CoreLib]System.Runtime.CompilerServices.AsyncTaskMethodBuilder`1&lt;object&gt; Script/&#39;&lt;&lt;Initialize&gt;&gt;d__0&#39;::&#39;&lt;&gt;t__builder&#39; /* 04000002 */\r\n",
       "        IL_0033: call instance class [System.Private.CoreLib]System.Threading.Tasks.Task`1&lt;!0&gt; valuetype [System.Private.CoreLib]System.Runtime.CompilerServices.AsyncTaskMethodBuilder`1&lt;object&gt;::get_Task() /* 0A00000B */\r\n",
       "        IL_0038: ret\r\n",
       "    } // end of method Script::&#39;&lt;Initialize&gt;&#39;\r\n",
       "\r\n",
       "    .method /* 06000002 */ public hidebysig specialname rtspecialname \r\n",
       "        instance void .ctor () cil managed \r\n",
       "    {\r\n",
       "        // Method begins at RVA 0x2095\r\n",
       "        // Code size 8 (0x8)\r\n",
       "        .maxstack 8\r\n",
       "\r\n",
       "        IL_0000: ldarg.0\r\n",
       "        IL_0001: call instance void [System.Private.CoreLib]System.Object::.ctor() /* 0A00000C */\r\n",
       "        IL_0006: nop\r\n",
       "        IL_0007: ret\r\n",
       "    } // end of method Script::.ctor\r\n",
       "\r\n",
       "    .method /* 06000003 */ private hidebysig specialname static \r\n",
       "        void &#39;&lt;Main&gt;&#39; () cil managed \r\n",
       "    {\r\n",
       "        // Method begins at RVA 0x20a0\r\n",
       "        // Code size 25 (0x19)\r\n",
       "        .maxstack 1\r\n",
       "        .locals /* 11000002 */ init (\r\n",
       "            [0] valuetype [System.Private.CoreLib]System.Runtime.CompilerServices.TaskAwaiter`1&lt;object&gt;\r\n",
       "        )\r\n",
       "\r\n",
       "        IL_0000: newobj instance void Script::.ctor() /* 06000002 */\r\n",
       "        IL_0005: callvirt instance class [System.Private.CoreLib]System.Threading.Tasks.Task`1&lt;object&gt; Script::&#39;&lt;Initialize&gt;&#39;() /* 06000001 */\r\n",
       "        IL_000a: callvirt instance valuetype [System.Private.CoreLib]System.Runtime.CompilerServices.TaskAwaiter`1&lt;!0&gt; class [System.Private.CoreLib]System.Threading.Tasks.Task`1&lt;object&gt;::GetAwaiter() /* 0A00000D */\r\n",
       "        IL_000f: stloc.0\r\n",
       "        IL_0010: ldloca.s 0\r\n",
       "        IL_0012: call instance !0 valuetype [System.Private.CoreLib]System.Runtime.CompilerServices.TaskAwaiter`1&lt;object&gt;::GetResult() /* 0A00000E */\r\n",
       "        IL_0017: pop\r\n",
       "        IL_0018: ret\r\n",
       "    } // end of method Script::&#39;&lt;Main&gt;&#39;\r\n",
       "\r\n",
       "} // end of class Script\r\n",
       "\r\n",
       "</code></pre></div></div><input type=\"radio\" name=\"tabs\" id=\"tab3\" /><div class=\"tab-label-content\" id=\"tab3-content\"><label for=\"tab3\">JIT Asm</label><div class=\"tab-content\"><pre class=\"code line-numbers\"><code class=\"language-nasm\">; Core CLR v6.0.322.12309 on amd64\r\n",
       "\r\n",
       "Script..ctor()\r\n",
       "    L0000: push rbp\r\n",
       "    L0001: sub rsp, 0x20\r\n",
       "    L0005: lea rbp, [rsp+0x20]\r\n",
       "    L000a: mov [rbp+0x10], rcx\r\n",
       "    L000e: cmp dword ptr [0x7ffb39fcc2f0], 0\r\n",
       "    L0015: je short L001c\r\n",
       "    L0017: call 0x00007ffb94f5c9f0\r\n",
       "    L001c: mov rcx, [rbp+0x10]\r\n",
       "    L0020: call System.Object..ctor()\r\n",
       "    L0025: nop\r\n",
       "    L0026: nop\r\n",
       "    L0027: add rsp, 0x20\r\n",
       "    L002b: pop rbp\r\n",
       "    L002c: ret\r\n",
       "\r\n",
       "Script.&lt;Initialize&gt;()\r\n",
       "    L0000: push rbp\r\n",
       "    L0001: push rdi\r\n",
       "    L0002: push rsi\r\n",
       "    L0003: sub rsp, 0x50\r\n",
       "    L0007: lea rbp, [rsp+0x60]\r\n",
       "    L000c: xor eax, eax\r\n",
       "    L000e: mov [rbp-0x38], rax\r\n",
       "    L0012: vxorps xmm4, xmm4, xmm4\r\n",
       "    L0016: vmovdqa [rbp-0x30], xmm4\r\n",
       "    L001b: vmovdqa [rbp-0x20], xmm4\r\n",
       "    L0020: mov [rbp+0x10], rcx\r\n",
       "    L0024: cmp dword ptr [0x7ffb39fcc2f0], 0\r\n",
       "    L002b: je short L0032\r\n",
       "    L002d: call 0x00007ffb94f5c9f0\r\n",
       "    L0032: mov rcx, 0x7ffb39fcd128\r\n",
       "    L003c: call 0x00007ffb94e3ae40\r\n",
       "    L0041: mov [rbp-0x20], rax\r\n",
       "    L0045: mov rcx, [rbp-0x20]\r\n",
       "    L0049: call Script+&lt;&lt;Initialize&gt;&gt;d__0..ctor()\r\n",
       "    L004e: mov rcx, [rbp-0x20]\r\n",
       "    L0052: mov [rbp-0x18], rcx\r\n",
       "    L0056: mov rcx, [rbp-0x18]\r\n",
       "    L005a: mov [rbp-0x28], rcx\r\n",
       "    L005e: mov rcx, 0x7ffb36afd9b0\r\n",
       "    L0068: call System.Runtime.CompilerServices.AsyncTaskMethodBuilder`1[[System.__Canon, System.Private.CoreLib]].Create()\r\n",
       "    L006d: mov [rbp-0x30], rax\r\n",
       "    L0071: mov rdi, [rbp-0x28]\r\n",
       "    L0075: add rdi, 0x18\r\n",
       "    L0079: lea rsi, [rbp-0x30]\r\n",
       "    L007d: call 0x00007ffb94e3aad0\r\n",
       "    L0082: mov rdx, [rbp-0x18]\r\n",
       "    L0086: lea rcx, [rdx+8]\r\n",
       "    L008a: mov rdx, [rbp+0x10]\r\n",
       "    L008e: call 0x00007ffb94e3aa20\r\n",
       "    L0093: mov rcx, [rbp-0x18]\r\n",
       "    L0097: mov dword ptr [rcx+0x10], 0xffffffff\r\n",
       "    L009e: mov rcx, [rbp-0x18]\r\n",
       "    L00a2: cmp [rcx], ecx\r\n",
       "    L00a4: mov rcx, [rbp-0x18]\r\n",
       "    L00a8: add rcx, 0x18\r\n",
       "    L00ac: lea r8, [rbp-0x18]\r\n",
       "    L00b0: mov rdx, 0x7ffb39fcd2b8\r\n",
       "    L00ba: call System.Runtime.CompilerServices.AsyncTaskMethodBuilder`1[[System.__Canon, System.Private.CoreLib]].Start[[System.__Canon, System.Private.CoreLib]](System.__Canon ByRef)\r\n",
       "    L00bf: nop\r\n",
       "    L00c0: mov rcx, [rbp-0x18]\r\n",
       "    L00c4: cmp [rcx], ecx\r\n",
       "    L00c6: mov rcx, [rbp-0x18]\r\n",
       "    L00ca: add rcx, 0x18\r\n",
       "    L00ce: mov rdx, 0x7ffb36afd9b0\r\n",
       "    L00d8: call System.Runtime.CompilerServices.AsyncTaskMethodBuilder`1[[System.__Canon, System.Private.CoreLib]].get_Task()\r\n",
       "    L00dd: mov [rbp-0x38], rax\r\n",
       "    L00e1: mov rax, [rbp-0x38]\r\n",
       "    L00e5: add rsp, 0x50\r\n",
       "    L00e9: pop rsi\r\n",
       "    L00ea: pop rdi\r\n",
       "    L00eb: pop rbp\r\n",
       "    L00ec: ret\r\n",
       "\r\n",
       "Script.&lt;Main&gt;()\r\n",
       "    L0000: push rbp\r\n",
       "    L0001: sub rsp, 0x50\r\n",
       "    L0005: lea rbp, [rsp+0x50]\r\n",
       "    L000a: xor eax, eax\r\n",
       "    L000c: mov [rbp-0x28], rax\r\n",
       "    L0010: vxorps xmm4, xmm4, xmm4\r\n",
       "    L0014: vmovdqa [rbp-0x20], xmm4\r\n",
       "    L0019: vmovdqa [rbp-0x10], xmm4\r\n",
       "    L001e: cmp dword ptr [0x7ffb39fcc2f0], 0\r\n",
       "    L0025: je short L002c\r\n",
       "    L0027: call 0x00007ffb94f5c9f0\r\n",
       "    L002c: mov rcx, 0x7ffb39fccdb0\r\n",
       "    L0036: call 0x00007ffb94e3ae40\r\n",
       "    L003b: mov [rbp-0x10], rax\r\n",
       "    L003f: mov rcx, [rbp-0x10]\r\n",
       "    L0043: call Script..ctor()\r\n",
       "    L0048: mov rcx, [rbp-0x10]\r\n",
       "    L004c: cmp [rcx], ecx\r\n",
       "    L004e: call Script.&lt;Initialize&gt;()\r\n",
       "    L0053: mov [rbp-0x18], rax\r\n",
       "    L0057: mov rcx, [rbp-0x18]\r\n",
       "    L005b: cmp [rcx], ecx\r\n",
       "    L005d: call System.Threading.Tasks.Task`1[[System.__Canon, System.Private.CoreLib]].GetAwaiter()\r\n",
       "    L0062: mov [rbp-0x20], rax\r\n",
       "    L0066: mov rcx, [rbp-0x20]\r\n",
       "    L006a: mov [rbp-8], rcx\r\n",
       "    L006e: lea rcx, [rbp-8]\r\n",
       "    L0072: mov rdx, 0x7ffb3a29e588\r\n",
       "    L007c: call System.Runtime.CompilerServices.TaskAwaiter`1[[System.__Canon, System.Private.CoreLib]].GetResult()\r\n",
       "    L0081: mov [rbp-0x28], rax\r\n",
       "    L0085: nop\r\n",
       "    L0086: nop\r\n",
       "    L0087: add rsp, 0x50\r\n",
       "    L008b: pop rbp\r\n",
       "    L008c: ret\r\n",
       "\r\n",
       "Script+&lt;&lt;Initialize&gt;&gt;d__0..ctor()\r\n",
       "    L0000: push rbp\r\n",
       "    L0001: sub rsp, 0x20\r\n",
       "    L0005: lea rbp, [rsp+0x20]\r\n",
       "    L000a: mov [rbp+0x10], rcx\r\n",
       "    L000e: cmp dword ptr [0x7ffb39fcc2f0], 0\r\n",
       "    L0015: je short L001c\r\n",
       "    L0017: call 0x00007ffb94f5c9f0\r\n",
       "    L001c: mov rcx, [rbp+0x10]\r\n",
       "    L0020: call System.Object..ctor()\r\n",
       "    L0025: nop\r\n",
       "    L0026: nop\r\n",
       "    L0027: add rsp, 0x20\r\n",
       "    L002b: pop rbp\r\n",
       "    L002c: ret\r\n",
       "\r\n",
       "Script+&lt;&lt;Initialize&gt;&gt;d__0.MoveNext()\r\n",
       "    L0000: push rbp\r\n",
       "    L0001: sub rsp, 0x50\r\n",
       "    L0005: lea rbp, [rsp+0x50]\r\n",
       "    L000a: vxorps xmm4, xmm4, xmm4\r\n",
       "    L000e: vmovdqa [rbp-0x20], xmm4\r\n",
       "    L0013: vmovdqa [rbp-0x10], xmm4\r\n",
       "    L0018: mov [rbp-0x30], rsp\r\n",
       "    L001c: mov [rbp+0x10], rcx\r\n",
       "    L0020: cmp dword ptr [0x7ffb39fcc2f0], 0\r\n",
       "    L0027: je short L002e\r\n",
       "    L0029: call 0x00007ffb94f5c9f0\r\n",
       "    L002e: mov rcx, [rbp+0x10]\r\n",
       "    L0032: mov ecx, [rcx+0x10]\r\n",
       "    L0035: mov [rbp-4], ecx\r\n",
       "    L0038: mov rcx, 0x2e59c78d5d0\r\n",
       "    L0042: mov rcx, [rcx]\r\n",
       "    L0045: call System.Console.WriteLine(System.String)\r\n",
       "    L004a: nop\r\n",
       "    L004b: xor ecx, ecx\r\n",
       "    L004d: mov [rbp-0x10], rcx\r\n",
       "    L0051: nop\r\n",
       "    L0052: jmp short L0054\r\n",
       "    L0054: mov rcx, [rbp+0x10]\r\n",
       "    L0058: mov dword ptr [rcx+0x10], 0xfffffffe\r\n",
       "    L005f: mov rcx, [rbp+0x10]\r\n",
       "    L0063: cmp [rcx], ecx\r\n",
       "    L0065: mov rcx, [rbp+0x10]\r\n",
       "    L0069: add rcx, 0x18\r\n",
       "    L006d: mov r8, [rbp-0x10]\r\n",
       "    L0071: mov rdx, 0x7ffb36afd9b0\r\n",
       "    L007b: call System.Runtime.CompilerServices.AsyncTaskMethodBuilder`1[[System.__Canon, System.Private.CoreLib]].SetResult(System.__Canon)\r\n",
       "    L0080: nop\r\n",
       "    L0081: nop\r\n",
       "    L0082: add rsp, 0x50\r\n",
       "    L0086: pop rbp\r\n",
       "    L0087: ret\r\n",
       "    L0088: push rbp\r\n",
       "    L0089: sub rsp, 0x30\r\n",
       "    L008d: mov rbp, [rcx+0x20]\r\n",
       "    L0091: mov [rsp+0x20], rbp\r\n",
       "    L0096: lea rbp, [rbp+0x50]\r\n",
       "    L009a: mov [rbp-0x20], rdx\r\n",
       "    L009e: mov rcx, [rbp-0x20]\r\n",
       "    L00a2: mov [rbp-0x18], rcx\r\n",
       "    L00a6: mov rcx, [rbp+0x10]\r\n",
       "    L00aa: mov dword ptr [rcx+0x10], 0xfffffffe\r\n",
       "    L00b1: mov rcx, [rbp+0x10]\r\n",
       "    L00b5: cmp [rcx], ecx\r\n",
       "    L00b7: mov rcx, [rbp+0x10]\r\n",
       "    L00bb: add rcx, 0x18\r\n",
       "    L00bf: mov r8, [rbp-0x18]\r\n",
       "    L00c3: mov rdx, 0x7ffb36afd9b0\r\n",
       "    L00cd: call System.Runtime.CompilerServices.AsyncTaskMethodBuilder`1[[System.__Canon, System.Private.CoreLib]].SetException(System.Exception)\r\n",
       "    L00d2: nop\r\n",
       "    L00d3: nop\r\n",
       "    L00d4: lea rax, [L0081]\r\n",
       "    L00db: add rsp, 0x30\r\n",
       "    L00df: pop rbp\r\n",
       "    L00e0: ret\r\n",
       "\r\n",
       "Script+&lt;&lt;Initialize&gt;&gt;d__0.SetStateMachine(System.Runtime.CompilerServices.IAsyncStateMachine)\r\n",
       "    L0000: push rbp\r\n",
       "    L0001: sub rsp, 0x20\r\n",
       "    L0005: lea rbp, [rsp+0x20]\r\n",
       "    L000a: mov [rbp+0x10], rcx\r\n",
       "    L000e: mov [rbp+0x18], rdx\r\n",
       "    L0012: cmp dword ptr [0x7ffb39fcc2f0], 0\r\n",
       "    L0019: je short L0020\r\n",
       "    L001b: call 0x00007ffb94f5c9f0\r\n",
       "    L0020: nop\r\n",
       "    L0021: add rsp, 0x20\r\n",
       "    L0025: pop rbp\r\n",
       "    L0026: ret\r\n",
       "</code></pre></div></div>\r\n",
       "<script src=\"https://cdn.jsdelivr.net/npm/prismjs@1.21.0/prism.min.js\"></script>\r\n",
       "<script src=\"https://cdn.jsdelivr.net/npm/prismjs@1.21.0/plugins/match-braces/prism-match-braces.min.js\"></script>\r\n",
       "<script src=\"https://cdn.jsdelivr.net/npm/prismjs@1.21.0/plugins/line-numbers/prism-line-numbers.min.js\"></script>\r\n",
       "<script src=\"https://cdn.jsdelivr.net/npm/prismjs@1.21.0/plugins/line-highlight/prism-line-highlight.min.js\"></script>\r\n",
       "<script src=\"https://cdn.jsdelivr.net/npm/prismjs@1.21.0/plugins/autoloader/prism-autoloader.min.js\"></script>\r\n",
       "<script src=\"https://cdn.jsdelivr.net/npm/prismjs@1.21.0/components/prism-csharp.min.js\"></script>\r\n",
       "<script src=\"https://cdn.jsdelivr.net/npm/prismjs@1.21.0/components/prism-cil.min.js\"></script>\r\n",
       "<script src=\"https://cdn.jsdelivr.net/npm/prismjs@1.21.0/components/prism-nasm.min.js\"></script>\r\n",
       "<script>\r\n",
       "    if (document.readyState === \"complete\" || (document.readyState !== \"loading\" && !document.documentElement.doScroll))\r\n",
       "    {\r\n",
       "        Prism.highlightAll();\r\n",
       "    }\r\n",
       "    document.addEventListener(\"DOMContentLoaded\", Prism.highlightAll);\r\n",
       "</script></div>"
      ]
     },
     "metadata": {},
     "output_type": "display_data"
    },
    {
     "name": "stdout",
     "output_type": "stream",
     "text": [
      "inspect!?\r\n"
     ]
    }
   ],
   "source": [
    "#!inspect\n",
    "\n",
    "Console.WriteLine(\"inspect!?\");"
   ]
  }
 ],
 "metadata": {
  "kernelspec": {
   "display_name": ".NET (C#)",
   "language": "C#",
   "name": ".net-csharp"
  },
  "language_info": {
   "name": "C#"
  }
 },
 "nbformat": 4,
 "nbformat_minor": 2
}
