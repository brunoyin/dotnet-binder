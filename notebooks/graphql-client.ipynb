{
 "cells": [
  {
   "cell_type": "markdown",
   "metadata": {
    "dotnet_interactive": {
     "language": "csharp"
    }
   },
   "source": [
    "## Starwar API"
   ]
  },
  {
   "cell_type": "code",
   "execution_count": null,
   "metadata": {
    "dotnet_interactive": {
     "language": "csharp"
    }
   },
   "outputs": [
    {
     "data": {
      "text/html": [
       "<div><div></div><div></div><div><strong>Installed Packages</strong><ul><li><span>GraphQL.Client, 4.0.2</span></li><li><span>GraphQL.Client.Serializer.Newtonsoft, 4.0.2</span></li></ul></div></div>"
      ]
     },
     "metadata": {},
     "output_type": "display_data"
    }
   ],
   "source": [
    "#r \"nuget: GraphQL.Client, 4.0.2\"\n",
    "#r \"nuget: GraphQL.Client.Serializer.Newtonsoft, 4.0.2\"\n"
   ]
  },
  {
   "cell_type": "code",
   "execution_count": null,
   "metadata": {
    "dotnet_interactive": {
     "language": "csharp"
    }
   },
   "outputs": [],
   "source": [
    "using System.Collections.Generic;\n",
    "\n",
    "\n",
    "public class PersonAndFilmsResponse\n",
    "{\n",
    "    public PersonContent Person { get; set; }\n",
    "\n",
    "    public class PersonContent\n",
    "    {\n",
    "        public string Name { get; set; }\n",
    "\n",
    "        public FilmConnectionContent FilmConnection { get; set; }\n",
    "\n",
    "        public class FilmConnectionContent\n",
    "        {\n",
    "            public List<FilmContent> Films { get; set; }\n",
    "\n",
    "            public class FilmContent\n",
    "            {\n",
    "                public string Title { get; set; }\n",
    "            }\n",
    "        }\n",
    "    }\n",
    "}\n"
   ]
  },
  {
   "cell_type": "code",
   "execution_count": null,
   "metadata": {
    "dotnet_interactive": {
     "language": "csharp"
    }
   },
   "outputs": [
    {
     "name": "stdout",
     "output_type": "stream",
     "text": [
      "raw response:\r\n",
      "{\r\n",
      "  \"Data\": {\r\n",
      "    \"Person\": {\r\n",
      "      \"Name\": \"Luke Skywalker\",\r\n",
      "      \"FilmConnection\": {\r\n",
      "        \"Films\": [\r\n",
      "          {\r\n",
      "            \"Title\": \"A New Hope\"\r\n",
      "          },\r\n",
      "          {\r\n",
      "            \"Title\": \"The Empire Strikes Back\"\r\n",
      "          },\r\n",
      "          {\r\n",
      "            \"Title\": \"Return of the Jedi\"\r\n",
      "          },\r\n",
      "          {\r\n",
      "            \"Title\": \"Revenge of the Sith\"\r\n",
      "          }\r\n",
      "        ]\r\n",
      "      }\r\n",
      "    }\r\n",
      "  },\r\n",
      "  \"Errors\": null,\r\n",
      "  \"Extensions\": null\r\n",
      "}\r\n",
      "Name: Luke Skywalker\r\n",
      "Films: A New Hope, The Empire Strikes Back, Return of the Jedi, Revenge of the Sith\r\n"
     ]
    }
   ],
   "source": [
    "using System;\n",
    "using System.Net.Http;\n",
    "using System.Linq;\n",
    "using System.Text.Json;\n",
    "using System.Threading.Tasks;\n",
    "using GraphQL;\n",
    "using GraphQL.Client.Http;\n",
    "using GraphQL.Client.Serializer.Newtonsoft;\n",
    "\n",
    "// var EndPoint = \"https://swapi.apis.guru/\";\n",
    "var httpClientHandler = new HttpClientHandler();\n",
    "httpClientHandler.ServerCertificateCustomValidationCallback = (message, cert, chain, sslPolicyErrors) =>\n",
    "{\n",
    "    return true;\n",
    "};\n",
    "// var httpClient = new HttpClient(httpClientHandler) { BaseAddress = new Uri(EndPoint) };\n",
    "\n",
    "var ClientOpts = new GraphQLHttpClientOptions{HttpMessageHandler = httpClientHandler, EndPoint = new Uri(\"https://swapi.apis.guru/\") };\n",
    "\n",
    "var graphQLClient = new GraphQLHttpClient(ClientOpts, new NewtonsoftJsonSerializer());\n",
    "\n",
    "// graphQLClient.HttpClient.\n",
    "\n",
    "var personAndFilmsRequest = new GraphQLRequest\n",
    "{\n",
    "    Query = @\"\n",
    "    query PersonAndFilms($id: ID) {\n",
    "        person(id: $id) {\n",
    "            name\n",
    "            filmConnection {\n",
    "                films {\n",
    "                    title\n",
    "                }\n",
    "            }\n",
    "        }\n",
    "    }\",\n",
    "    OperationName = \"PersonAndFilms\",\n",
    "    Variables = new\n",
    "    {\n",
    "        id = \"cGVvcGxlOjE=\"\n",
    "    }\n",
    "};\n",
    "\n",
    "var graphQLResponse = await graphQLClient.SendQueryAsync<PersonAndFilmsResponse>(personAndFilmsRequest);\n",
    "// display(\"raw response:\");\n",
    "// display(JsonSerializer.Serialize(graphQLResponse, new JsonSerializerOptions { WriteIndented = true }));\n",
    "Console.WriteLine(\"raw response:\");\n",
    "Console.WriteLine(JsonSerializer.Serialize(graphQLResponse, new JsonSerializerOptions { WriteIndented = true }));\n",
    "\n",
    "// Console.WriteLine();\n",
    "Console.WriteLine($\"Name: {graphQLResponse.Data.Person.Name}\");\n",
    "var films = string.Join(\", \", graphQLResponse.Data.Person.FilmConnection.Films.Select(f => f.Title));\n",
    "Console.WriteLine($\"Films: {films}\");\n",
    "\n",
    "// Console.WriteLine();\n",
    "// Console.WriteLine(\"Wait for completion ...\");\n",
    "// Console.ReadKey();\n"
   ]
  },
  {
   "cell_type": "code",
   "execution_count": null,
   "metadata": {
    "dotnet_interactive": {
     "language": "pwsh"
    }
   },
   "outputs": [],
   "source": [
    "$payload = @{\n",
    "    query = 'query PersonAndFilms($id: ID) { person(id: $id) { name filmConnection { films { title } } } }';\n",
    "    OperationName = \"PersonAndFilms\";\n",
    "    variables = \n",
    "    @{\n",
    "        id = \"cGVvcGxlOjE=\"\n",
    "    }\n",
    "}"
   ]
  },
  {
   "cell_type": "code",
   "execution_count": null,
   "metadata": {
    "dotnet_interactive": {
     "language": "pwsh"
    }
   },
   "outputs": [
    {
     "name": "stdout",
     "output_type": "stream",
     "text": [
      "{\"query\":\"query PersonAndFilms($id: ID) { person(id: $id) { name filmConnection { films { title } } } }\",\"OperationName\":\"PersonAndFilms\",\"variables\":{\"id\":\"cGVvcGxlOjE=\"}}\r\n"
     ]
    }
   ],
   "source": [
    "$body = $payload |ConvertTo-Json -Depth 5 -Compress\n",
    "$body"
   ]
  },
  {
   "cell_type": "code",
   "execution_count": null,
   "metadata": {
    "dotnet_interactive": {
     "language": "pwsh"
    }
   },
   "outputs": [
    {
     "name": "stdout",
     "output_type": "stream",
     "text": [
      "  % Total    % Received % Xferd  Average Speed   Time    Time     Time  Current\r\n",
      "                                 Dload  Upload   Total   Spent    Left  Speed\r\n",
      "\r\n",
      "  0     0    0     0    0     0      0      0 --:--:-- --:--:-- --:--:--     0\r\n",
      "{\"data\":{\"person\":{\"name\":\"Luke Skywalker\",\"filmConnection\":{\"films\":[{\"title\":\"A New Hope\"},{\"title\":\"The Empire Strikes Back\"},{\"title\":\"Return of the Jedi\"},{\"title\":\"Revenge of the Sith\"}]}}}}\r\n",
      "100   368  100   196  100   172   1882   1652 --:--:-- --:--:-- --:--:--  3572\r\n"
     ]
    }
   ],
   "source": [
    "curl.exe -k -X POST -H \"Content-Type:application/json\" https://swapi.apis.guru/ -d ($body -replace '\"', '\\\"')\n",
    "# curl.exe -k -X POST -H \"Content-Type:application/json\" https://swapi.apis.guru/ -d -d $body"
   ]
  },
  {
   "cell_type": "code",
   "execution_count": null,
   "metadata": {
    "dotnet_interactive": {
     "language": "pwsh"
    }
   },
   "outputs": [],
   "source": [
    "$xbody = [System.Text.Encoding]::UTF8.GetBytes($body)\n",
    "$ret = Invoke-RestMethod -Uri https://swapi.apis.guru/ -SkipCertificateCheck -Body $xbody -ContentType \"application/json\""
   ]
  },
  {
   "cell_type": "markdown",
   "metadata": {},
   "source": [
    "## Github GraphQL"
   ]
  },
  {
   "cell_type": "code",
   "execution_count": null,
   "metadata": {
    "dotnet_interactive": {
     "language": "pwsh"
    }
   },
   "outputs": [],
   "source": [
    ". D:\\projects\\binder\\bruno-notebooks\\.env\\github.ps1\n",
    "\n",
    "$headers = @{Authorization = (\"bearer {0}\" -f  $github_token); \"Content-Type\" = \"application/json\"; Accept=\"*/*\"}"
   ]
  },
  {
   "cell_type": "code",
   "execution_count": null,
   "metadata": {
    "dotnet_interactive": {
     "language": "pwsh"
    }
   },
   "outputs": [],
   "source": [
    "$q = 'query orginfo($mylogin: String!) {\n",
    "    organization(login: $mylogin) {\n",
    "      repositories(first: 10, orderBy: {field: STARGAZERS, direction: DESC}) {\n",
    "        nodes {\n",
    "          nom: name\n",
    "        }\n",
    "      }\n",
    "    }\n",
    "  }'\n",
    "\n",
    "$q2 = 'query {\n",
    "  organization(login: \"jscomplete\") {\n",
    "    repositories(first: 10, orderBy: {field: STARGAZERS, direction: DESC}) {\n",
    "      nodes {\n",
    "        nom: name\n",
    "      }\n",
    "    }\n",
    "  }\n",
    "}'\n",
    "$payload = @{\n",
    "    query = $q\n",
    "    variables = @{mylogin = 'jscomplete'}\n",
    "}"
   ]
  },
  {
   "cell_type": "code",
   "execution_count": null,
   "metadata": {
    "dotnet_interactive": {
     "language": "pwsh"
    }
   },
   "outputs": [],
   "source": [
    "# $xbody = [System.Text.Encoding]::UTF8.GetBytes((($payload |ConvertTo-Json) -replace '\\r', '') )\n",
    "$xbody = (($payload |ConvertTo-Json) -replace '\\r', '')\n",
    "# $ret2 = Invoke-RestMethod -Uri https://api.github.com/graphql -Headers $headers -Body $xbody -ContentType 'application/json' -Method Post\n",
    "$ret2 = Invoke-RestMethod -Uri https://api.github.com/graphql -Headers $headers -Body $xbody -ContentType 'application/json' -Method Post"
   ]
  },
  {
   "cell_type": "code",
   "execution_count": null,
   "metadata": {
    "dotnet_interactive": {
     "language": "pwsh"
    }
   },
   "outputs": [
    {
     "name": "stdout",
     "output_type": "stream",
     "text": [
      "{\"query\":\"query {  organization(login: \\\"jscomplete\\\") {    repositories(first: 10, orderBy: {field: STARGAZERS, direction: DESC}) {      nodes {        nom: name      }    }  }}\"}\r\n"
     ]
    }
   ],
   "source": [
    "($payload |ConvertTo-Json -Compress) -replace '\\\\r\\\\n', ''"
   ]
  },
  {
   "cell_type": "code",
   "execution_count": null,
   "metadata": {
    "dotnet_interactive": {
     "language": "pwsh"
    }
   },
   "outputs": [
    {
     "name": "stdout",
     "output_type": "stream",
     "text": [
      "\r\n",
      "\u001b[32;1mnom\u001b[0m\r\n",
      "\u001b[32;1m---\u001b[0m\r\n",
      "learn-fullstack-javascript\r\n",
      "ngs\r\n",
      "advanced-nodejs\r\n",
      "graphql-in-action\r\n",
      "book-node-beyond-basics\r\n",
      "advanced-react\r\n",
      "graphfront\r\n",
      "reactful\r\n",
      "rgs-star-match\r\n",
      "graphfront-ui\r\n",
      "\r\n"
     ]
    }
   ],
   "source": [
    "# $ret2 |ConvertTo-Json -Depth 25 | Out-File -FilePath D:\\projects\\binder\\bruno-notebooks\\github_schema.json -Encoding utf8NoBOM -Force\n",
    "# $ret2|ConvertTo-Json\n",
    "$ret2.data.organization.repositories.nodes\n",
    "# $headers\n",
    "# ($payload |ConvertTo-Json) -replace '\\\\r', ''\n",
    "\n",
    "# $payload\n",
    "# curl.exe -H \"Authorization: bearer $github_token\" -X POST -d `\n",
    "# ($payload |ConvertTo-Json -Compress) `\n",
    "# https://api.github.com/graphql\n"
   ]
  }
 ],
 "metadata": {
  "kernelspec": {
   "display_name": ".NET (C#)",
   "language": "C#",
   "name": ".net-csharp"
  },
  "language_info": {
   "name": "C#"
  }
 },
 "nbformat": 4,
 "nbformat_minor": 2
}
