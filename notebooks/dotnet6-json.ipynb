{
 "cells": [
  {
   "cell_type": "code",
   "execution_count": null,
   "metadata": {
    "dotnet_interactive": {
     "language": "csharp"
    }
   },
   "outputs": [],
   "source": [
    "using System.Text.Json;\n",
    "using System.Text.Json.Nodes;"
   ]
  },
  {
   "cell_type": "code",
   "execution_count": null,
   "metadata": {
    "dotnet_interactive": {
     "language": "csharp"
    }
   },
   "outputs": [
    {
     "name": "stdout",
     "output_type": "stream",
     "text": [
      "{\"employeesList\":[\"Bob\",\"Wendy\",\"Scoop\",\"Birdy\"]}\r\n"
     ]
    }
   ],
   "source": [
    "var newJsonObject = new JsonObject {\n",
    "    [\"employeesList\"] = new JsonArray(\"Bob\", \"Wendy\", \"Scoop\", \"Birdy\")\n",
    "};\n",
    "Console.WriteLine(newJsonObject.ToJsonString());"
   ]
  },
  {
   "cell_type": "code",
   "execution_count": null,
   "metadata": {
    "dotnet_interactive": {
     "language": "csharp"
    }
   },
   "outputs": [
    {
     "name": "stdout",
     "output_type": "stream",
     "text": [
      "{\"employeesList\":[\"Bob\",\"Wendy\",\"Scoop\",\"Birdy\"],\"boss\":\"Bruno1\",\"boss2\":\"Bruno2\"}\r\n"
     ]
    }
   ],
   "source": [
    "newJsonObject[\"boss\"] = \"Bruno1\";\n",
    "newJsonObject[\"boss2\"] = \"Bruno2\";\n",
    "Console.WriteLine(newJsonObject.ToJsonString());"
   ]
  },
  {
   "cell_type": "code",
   "execution_count": null,
   "metadata": {
    "dotnet_interactive": {
     "language": "csharp"
    }
   },
   "outputs": [
    {
     "name": "stdout",
     "output_type": "stream",
     "text": [
      "{\"employeesList\":[\"Bob\",\"Wendy\",\"Scoop\",\"Birdy\"],\"boss\":\"Bruno1\"}\r\n"
     ]
    }
   ],
   "source": [
    "newJsonObject.Remove(\"boss2\");\n",
    "Console.WriteLine(newJsonObject.ToJsonString());"
   ]
  }
 ],
 "metadata": {
  "kernelspec": {
   "display_name": ".NET (C#)",
   "language": "C#",
   "name": ".net-csharp"
  },
  "language_info": {
   "name": "C#"
  }
 },
 "nbformat": 4,
 "nbformat_minor": 2
}
